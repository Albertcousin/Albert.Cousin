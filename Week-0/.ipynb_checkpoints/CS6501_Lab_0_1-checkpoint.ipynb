{
 "cells": [
  {
   "cell_type": "markdown",
   "metadata": {
    "id": "ZnChNjRtxReo"
   },
   "source": [
    "<div>\n",
    "<img src=\"https://drive.google.com/uc?export=view&id=1vK33e_EqaHgBHcbRV_m38hx6IkG0blK_\" width=\"350\"/>\n",
    "</div> \n",
    "\n",
    "#**Artificial Intelligence - MSc**\n",
    "CS6501 - MACHINE LEARNING AND APPLICATIONS \n",
    "\n",
    "###Instructor: Enrique Naredo\n",
    "###CS6501_Lab-0.1"
   ]
  },
  {
   "cell_type": "markdown",
   "metadata": {
    "id": "JLpPSD9Z8pBO"
   },
   "source": [
    "# Python Basics number 1"
   ]
  },
  {
   "cell_type": "markdown",
   "metadata": {
    "id": "CLNU1zRpEwgi"
   },
   "source": [
    "### Markdown Examples"
   ]
  },
  {
   "cell_type": "markdown",
   "metadata": {
    "id": "XEiC0hkaE74A"
   },
   "source": [
    "This is **bold**. \n",
    "\n",
    "This is *italic*. \n",
    "\n",
    "This is ~strikethrough~."
   ]
  },
  {
   "cell_type": "markdown",
   "metadata": {
    "id": "tNFS8gVRFLXS"
   },
   "source": [
    "Mathematical Equations\n",
    "\n",
    "$\\sqrt{3x-1}+(1+x)^2$\n",
    "\n",
    "$e^x=\\sum_{i=0}^\\infty \\frac{1}{i!}x^i$\n",
    "\n"
   ]
  },
  {
   "cell_type": "markdown",
   "metadata": {
    "id": "PRq1ZrpU9kNC"
   },
   "source": [
    "### Python Comments"
   ]
  },
  {
   "cell_type": "code",
   "execution_count": null,
   "metadata": {
    "id": "XnuvhtLg9npr"
   },
   "outputs": [],
   "source": [
    "# This is a single line comment"
   ]
  },
  {
   "cell_type": "code",
   "execution_count": null,
   "metadata": {
    "id": "v4LN70Yq-CEm"
   },
   "outputs": [],
   "source": [
    "'''\n",
    "THIS IS A MULTILINE COMMENT\n",
    "USING STRING LITERALS!\n",
    "'''"
   ]
  },
  {
   "cell_type": "code",
   "execution_count": null,
   "metadata": {
    "id": "7cfq_n8U-bNp"
   },
   "outputs": [],
   "source": [
    "\"\"\"\n",
    "This is a comment\n",
    "written in\n",
    "more than just one line\n",
    "\"\"\""
   ]
  },
  {
   "cell_type": "markdown",
   "metadata": {
    "id": "vhRIJ7OD5iaS"
   },
   "source": [
    "### Python Indentation"
   ]
  },
  {
   "cell_type": "code",
   "execution_count": null,
   "metadata": {
    "id": "5m8_yPXz5Vgz"
   },
   "outputs": [],
   "source": [
    "## Good indentation\n",
    "\n",
    "if 10 > 5:\n",
    "  print(\"Ten is greater than five!\")"
   ]
  },
  {
   "cell_type": "code",
   "execution_count": null,
   "metadata": {
    "id": "r3ezf2th8wqd"
   },
   "outputs": [],
   "source": [
    "## Wrong indentation\n",
    "# add blank spaces to get the right indentation\n",
    "\n",
    "if 10 > 5:\n",
    "print(\"Ten is greater than five!\")"
   ]
  },
  {
   "cell_type": "markdown",
   "metadata": {
    "id": "_vz_Eylu9Ij6"
   },
   "source": [
    "### Python Variables"
   ]
  },
  {
   "cell_type": "code",
   "execution_count": null,
   "metadata": {
    "id": "hFE6bW7e9N3X"
   },
   "outputs": [],
   "source": [
    "x = 10\n",
    "y = \"Hello, Friend!\""
   ]
  },
  {
   "cell_type": "code",
   "execution_count": null,
   "metadata": {
    "id": "ctn4HhFW-_M0"
   },
   "outputs": [],
   "source": [
    "z = \"Celtics\"\n",
    "# is the same as\n",
    "z = 'Celtics'"
   ]
  },
  {
   "cell_type": "code",
   "execution_count": null,
   "metadata": {
    "id": "iKYY8GOQ_UAa"
   },
   "outputs": [],
   "source": [
    "a = 4\n",
    "# is NOT the same as\n",
    "A = 4"
   ]
  },
  {
   "cell_type": "code",
   "execution_count": null,
   "metadata": {
    "id": "DqAs1TeI_xXY"
   },
   "outputs": [],
   "source": [
    "# Legal variable names\n",
    "\n",
    "myvar   = \"Anything\"\n",
    "my_var  = \"Anything\"\n",
    "_my_var = \"Anything\"\n",
    "myVar   = \"Anything\"\n",
    "MYVAR   = \"Anything\"\n",
    "myvar2  = \"Anything\""
   ]
  },
  {
   "cell_type": "code",
   "execution_count": null,
   "metadata": {
    "id": "rYeVoiVIAHZE"
   },
   "outputs": [],
   "source": [
    "# Camel Case\n",
    "myVariableName = \"Something\""
   ]
  },
  {
   "cell_type": "code",
   "execution_count": null,
   "metadata": {
    "id": "2SxZ4LsFATuG"
   },
   "outputs": [],
   "source": [
    "# Pascal Case\n",
    "MyVariableName = \"Something\""
   ]
  },
  {
   "cell_type": "code",
   "execution_count": null,
   "metadata": {
    "id": "KTTOCto2Aha_"
   },
   "outputs": [],
   "source": [
    "# Snake Case\n",
    "my_variable_name = \"Something\""
   ]
  },
  {
   "cell_type": "code",
   "execution_count": null,
   "metadata": {
    "id": "Pi4inIHgApVE"
   },
   "outputs": [],
   "source": [
    "# Invent your own case\n",
    "my_Variable-NAME = \"Something\""
   ]
  },
  {
   "cell_type": "code",
   "execution_count": null,
   "metadata": {
    "id": "McJxzxxeBEAu"
   },
   "outputs": [],
   "source": [
    "# Many Values to Multiple Variables\n",
    "alpha, beta, gamma = \"Anything\", \"Something\", \"Whatever\"\n",
    "print(alpha)\n",
    "print(beta)\n",
    "print(gamma)"
   ]
  },
  {
   "cell_type": "code",
   "execution_count": null,
   "metadata": {
    "id": "Q1-y_vo3BfXC"
   },
   "outputs": [],
   "source": [
    "# One Value to Multiple Variables\n",
    "alpha = beta = gamma = \"Everything\"\n",
    "print(alpha)\n",
    "print(beta)\n",
    "print(gamma)"
   ]
  }
 ],
 "metadata": {
  "colab": {
   "name": "CS6501_Lab_0_1.ipynb",
   "provenance": []
  },
  "kernelspec": {
   "display_name": "Python 3 (ipykernel)",
   "language": "python",
   "name": "python3"
  },
  "language_info": {
   "codemirror_mode": {
    "name": "ipython",
    "version": 3
   },
   "file_extension": ".py",
   "mimetype": "text/x-python",
   "name": "python",
   "nbconvert_exporter": "python",
   "pygments_lexer": "ipython3",
   "version": "3.9.6"
  }
 },
 "nbformat": 4,
 "nbformat_minor": 1
}
