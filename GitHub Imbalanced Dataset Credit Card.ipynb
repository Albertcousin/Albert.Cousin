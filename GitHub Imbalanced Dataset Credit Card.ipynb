{
 "cells": [
  {
   "cell_type": "markdown",
   "id": "a8b691a5",
   "metadata": {},
   "source": [
    "## Explanation of Problem Addressed\n",
    "\n",
    "The credit card fraud detection dataset is made of about 30 features which are the result of a PCA Dimensionality reduction, and can be found [here](https://www.kaggle.com/mlg-ulb/creditcardfraud)\n",
    "\n",
    "The target of this dataset is the Class variable, encoded as 0 when the transaction is not fraudulent, and 1 when the transaction is fraudulent. \n",
    "\n",
    "The dataset presents an import caracteristic: it is highly imbalanced, meaning that the observations for class 0 are drastically higher than the ones for class 1, leading to false interpretation of performance metrics.\n",
    "\n",
    "We started by running our usual models, first on the imbalanced dataset, and as expected, the predictions for class 0 are very accurately guessed while the predictions for class 1 very poorly are. \n",
    "\n",
    "The given sampling strategies were applied on different models -\n",
    "\n",
    "  - Undersampling\n",
    "  - Oversampling\n",
    "  - SMOTE oversampling\n",
    "  - Penalized algorithm\n",
    "\n",
    "The models below were applied to each sampling strategy presented above.\n",
    "  - XGBoost\n",
    "  - Logistic Regression\n",
    "  - Gaussian Naive Bayes.\n",
    "  - Support Vector Machine\n",
    "  - Random Forest\n",
    "\n",
    "The following were the scores calculated for each sampling strategy: \n",
    "  - Accuracy\n",
    "  - Precision\n",
    "  - Recall\n",
    "  - F1 Measure"
   ]
  },
  {
   "cell_type": "code",
   "execution_count": 2,
   "id": "d63ae77f",
   "metadata": {},
   "outputs": [],
   "source": [
    "# warnings\n",
    "import warnings\n",
    "warnings.filterwarnings('ignore')\n",
    "warnings.warn(\"deprecated\", DeprecationWarning)\n",
    "\n",
    "# data manipulation and visualization\n",
    "import pandas as pd\n",
    "import numpy as np\n",
    "import matplotlib.pyplot as plt\n",
    "import seaborn as sns\n",
    "\n",
    "# modelling\n",
    "from sklearn import preprocessing\n",
    "from sklearn.svm import SVC\n",
    "from sklearn import svm\n",
    "from sklearn.linear_model import LogisticRegression\n",
    "from sklearn.ensemble import RandomForestClassifier\n",
    "from sklearn.naive_bayes import GaussianNB\n",
    "from sklearn.decomposition import PCA\n",
    "from sklearn.preprocessing import label_binarize, StandardScaler, RobustScaler, StandardScaler\n",
    "from sklearn.multiclass import OneVsRestClassifier\n",
    "from sklearn.model_selection import train_test_split, KFold, RandomizedSearchCV\n",
    "from xgboost import XGBRegressor\n",
    "\n",
    "# scoring\n",
    "from sklearn.metrics import roc_auc_score, mean_absolute_error, classification_report, r2_score\n",
    "\n",
    "# sampling strategies\n",
    "from imblearn.under_sampling import RandomUnderSampler\n",
    "from imblearn.over_sampling import SMOTE\n",
    "from imblearn.combine import SMOTEENN"
   ]
  },
  {
   "cell_type": "markdown",
   "id": "6100183a",
   "metadata": {},
   "source": [
    "# Load and visualize the dataset"
   ]
  },
  {
   "cell_type": "code",
   "execution_count": 3,
   "id": "cdb9e327",
   "metadata": {},
   "outputs": [],
   "source": [
    "# load dataset from local directory\n",
    "# warning: you should have the .csv file in the correct directory\n",
    "df = pd.read_csv('creditcard.csv')"
   ]
  },
  {
   "cell_type": "code",
   "execution_count": 4,
   "id": "0a381174",
   "metadata": {},
   "outputs": [
    {
     "data": {
      "text/html": [
       "<div>\n",
       "<style scoped>\n",
       "    .dataframe tbody tr th:only-of-type {\n",
       "        vertical-align: middle;\n",
       "    }\n",
       "\n",
       "    .dataframe tbody tr th {\n",
       "        vertical-align: top;\n",
       "    }\n",
       "\n",
       "    .dataframe thead th {\n",
       "        text-align: right;\n",
       "    }\n",
       "</style>\n",
       "<table border=\"1\" class=\"dataframe\">\n",
       "  <thead>\n",
       "    <tr style=\"text-align: right;\">\n",
       "      <th></th>\n",
       "      <th>Time</th>\n",
       "      <th>V1</th>\n",
       "      <th>V2</th>\n",
       "      <th>V3</th>\n",
       "      <th>V4</th>\n",
       "      <th>V5</th>\n",
       "      <th>V6</th>\n",
       "      <th>V7</th>\n",
       "      <th>V8</th>\n",
       "      <th>V9</th>\n",
       "      <th>...</th>\n",
       "      <th>V21</th>\n",
       "      <th>V22</th>\n",
       "      <th>V23</th>\n",
       "      <th>V24</th>\n",
       "      <th>V25</th>\n",
       "      <th>V26</th>\n",
       "      <th>V27</th>\n",
       "      <th>V28</th>\n",
       "      <th>Amount</th>\n",
       "      <th>Class</th>\n",
       "    </tr>\n",
       "  </thead>\n",
       "  <tbody>\n",
       "    <tr>\n",
       "      <th>0</th>\n",
       "      <td>0.0</td>\n",
       "      <td>-1.359807</td>\n",
       "      <td>-0.072781</td>\n",
       "      <td>2.536347</td>\n",
       "      <td>1.378155</td>\n",
       "      <td>-0.338321</td>\n",
       "      <td>0.462388</td>\n",
       "      <td>0.239599</td>\n",
       "      <td>0.098698</td>\n",
       "      <td>0.363787</td>\n",
       "      <td>...</td>\n",
       "      <td>-0.018307</td>\n",
       "      <td>0.277838</td>\n",
       "      <td>-0.110474</td>\n",
       "      <td>0.066928</td>\n",
       "      <td>0.128539</td>\n",
       "      <td>-0.189115</td>\n",
       "      <td>0.133558</td>\n",
       "      <td>-0.021053</td>\n",
       "      <td>149.62</td>\n",
       "      <td>0</td>\n",
       "    </tr>\n",
       "    <tr>\n",
       "      <th>1</th>\n",
       "      <td>0.0</td>\n",
       "      <td>1.191857</td>\n",
       "      <td>0.266151</td>\n",
       "      <td>0.166480</td>\n",
       "      <td>0.448154</td>\n",
       "      <td>0.060018</td>\n",
       "      <td>-0.082361</td>\n",
       "      <td>-0.078803</td>\n",
       "      <td>0.085102</td>\n",
       "      <td>-0.255425</td>\n",
       "      <td>...</td>\n",
       "      <td>-0.225775</td>\n",
       "      <td>-0.638672</td>\n",
       "      <td>0.101288</td>\n",
       "      <td>-0.339846</td>\n",
       "      <td>0.167170</td>\n",
       "      <td>0.125895</td>\n",
       "      <td>-0.008983</td>\n",
       "      <td>0.014724</td>\n",
       "      <td>2.69</td>\n",
       "      <td>0</td>\n",
       "    </tr>\n",
       "    <tr>\n",
       "      <th>2</th>\n",
       "      <td>1.0</td>\n",
       "      <td>-1.358354</td>\n",
       "      <td>-1.340163</td>\n",
       "      <td>1.773209</td>\n",
       "      <td>0.379780</td>\n",
       "      <td>-0.503198</td>\n",
       "      <td>1.800499</td>\n",
       "      <td>0.791461</td>\n",
       "      <td>0.247676</td>\n",
       "      <td>-1.514654</td>\n",
       "      <td>...</td>\n",
       "      <td>0.247998</td>\n",
       "      <td>0.771679</td>\n",
       "      <td>0.909412</td>\n",
       "      <td>-0.689281</td>\n",
       "      <td>-0.327642</td>\n",
       "      <td>-0.139097</td>\n",
       "      <td>-0.055353</td>\n",
       "      <td>-0.059752</td>\n",
       "      <td>378.66</td>\n",
       "      <td>0</td>\n",
       "    </tr>\n",
       "    <tr>\n",
       "      <th>3</th>\n",
       "      <td>1.0</td>\n",
       "      <td>-0.966272</td>\n",
       "      <td>-0.185226</td>\n",
       "      <td>1.792993</td>\n",
       "      <td>-0.863291</td>\n",
       "      <td>-0.010309</td>\n",
       "      <td>1.247203</td>\n",
       "      <td>0.237609</td>\n",
       "      <td>0.377436</td>\n",
       "      <td>-1.387024</td>\n",
       "      <td>...</td>\n",
       "      <td>-0.108300</td>\n",
       "      <td>0.005274</td>\n",
       "      <td>-0.190321</td>\n",
       "      <td>-1.175575</td>\n",
       "      <td>0.647376</td>\n",
       "      <td>-0.221929</td>\n",
       "      <td>0.062723</td>\n",
       "      <td>0.061458</td>\n",
       "      <td>123.50</td>\n",
       "      <td>0</td>\n",
       "    </tr>\n",
       "    <tr>\n",
       "      <th>4</th>\n",
       "      <td>2.0</td>\n",
       "      <td>-1.158233</td>\n",
       "      <td>0.877737</td>\n",
       "      <td>1.548718</td>\n",
       "      <td>0.403034</td>\n",
       "      <td>-0.407193</td>\n",
       "      <td>0.095921</td>\n",
       "      <td>0.592941</td>\n",
       "      <td>-0.270533</td>\n",
       "      <td>0.817739</td>\n",
       "      <td>...</td>\n",
       "      <td>-0.009431</td>\n",
       "      <td>0.798278</td>\n",
       "      <td>-0.137458</td>\n",
       "      <td>0.141267</td>\n",
       "      <td>-0.206010</td>\n",
       "      <td>0.502292</td>\n",
       "      <td>0.219422</td>\n",
       "      <td>0.215153</td>\n",
       "      <td>69.99</td>\n",
       "      <td>0</td>\n",
       "    </tr>\n",
       "  </tbody>\n",
       "</table>\n",
       "<p>5 rows × 31 columns</p>\n",
       "</div>"
      ],
      "text/plain": [
       "   Time        V1        V2        V3        V4        V5        V6        V7  \\\n",
       "0   0.0 -1.359807 -0.072781  2.536347  1.378155 -0.338321  0.462388  0.239599   \n",
       "1   0.0  1.191857  0.266151  0.166480  0.448154  0.060018 -0.082361 -0.078803   \n",
       "2   1.0 -1.358354 -1.340163  1.773209  0.379780 -0.503198  1.800499  0.791461   \n",
       "3   1.0 -0.966272 -0.185226  1.792993 -0.863291 -0.010309  1.247203  0.237609   \n",
       "4   2.0 -1.158233  0.877737  1.548718  0.403034 -0.407193  0.095921  0.592941   \n",
       "\n",
       "         V8        V9  ...       V21       V22       V23       V24       V25  \\\n",
       "0  0.098698  0.363787  ... -0.018307  0.277838 -0.110474  0.066928  0.128539   \n",
       "1  0.085102 -0.255425  ... -0.225775 -0.638672  0.101288 -0.339846  0.167170   \n",
       "2  0.247676 -1.514654  ...  0.247998  0.771679  0.909412 -0.689281 -0.327642   \n",
       "3  0.377436 -1.387024  ... -0.108300  0.005274 -0.190321 -1.175575  0.647376   \n",
       "4 -0.270533  0.817739  ... -0.009431  0.798278 -0.137458  0.141267 -0.206010   \n",
       "\n",
       "        V26       V27       V28  Amount  Class  \n",
       "0 -0.189115  0.133558 -0.021053  149.62      0  \n",
       "1  0.125895 -0.008983  0.014724    2.69      0  \n",
       "2 -0.139097 -0.055353 -0.059752  378.66      0  \n",
       "3 -0.221929  0.062723  0.061458  123.50      0  \n",
       "4  0.502292  0.219422  0.215153   69.99      0  \n",
       "\n",
       "[5 rows x 31 columns]"
      ]
     },
     "execution_count": 4,
     "metadata": {},
     "output_type": "execute_result"
    }
   ],
   "source": [
    "# first five rows\n",
    "df.head()"
   ]
  },
  {
   "cell_type": "code",
   "execution_count": 5,
   "id": "0b250577",
   "metadata": {},
   "outputs": [
    {
     "data": {
      "text/plain": [
       "(284807, 31)"
      ]
     },
     "execution_count": 5,
     "metadata": {},
     "output_type": "execute_result"
    }
   ],
   "source": [
    "# how many features and instances\n",
    "df.shape"
   ]
  },
  {
   "cell_type": "code",
   "execution_count": 6,
   "id": "e42ac4e8",
   "metadata": {},
   "outputs": [
    {
     "data": {
      "text/plain": [
       "0"
      ]
     },
     "execution_count": 6,
     "metadata": {},
     "output_type": "execute_result"
    }
   ],
   "source": [
    "# check if null values\n",
    "df.isnull().sum().max()"
   ]
  },
  {
   "cell_type": "code",
   "execution_count": 7,
   "id": "5f38e4fb",
   "metadata": {},
   "outputs": [
    {
     "data": {
      "image/png": "[encoded data removed]",
      "text/plain": [
       "<Figure size 432x288 with 1 Axes>"
      ]
     },
     "metadata": {
      "needs_background": "light"
     },
     "output_type": "display_data"
    }
   ],
   "source": [
    "# target class count discrepancies, notice the massive imbalance \n",
    "P = sns.countplot(df['Class'])\n",
    "P.set_xticklabels(['No Fraud','Fraud'])\n",
    "plt.show()"
   ]
  },
  {
   "cell_type": "code",
   "execution_count": 8,
   "id": "7e3400f9",
   "metadata": {},
   "outputs": [
    {
     "data": {
      "image/png": "[encoded data removed]",
      "text/plain": [
       "<Figure size 864x288 with 2 Axes>"
      ]
     },
     "metadata": {
      "needs_background": "light"
     },
     "output_type": "display_data"
    }
   ],
   "source": [
    "# time & amount distributions\n",
    "fig, ax = plt.subplots(1, 2, figsize=(12,4))\n",
    "\n",
    "time_feature = df['Time'].values\n",
    "amount_feature = df['Amount'].values\n",
    "\n",
    "sns.distplot(time_feature, ax=ax[0], color='b')\n",
    "ax[0].set_title('Transaction Time Distribution', fontsize=14)\n",
    "ax[0].set_xlim([min(time_feature), max(time_feature)])\n",
    "\n",
    "sns.distplot(amount_feature, ax=ax[1], color='r')\n",
    "ax[1].set_title('Transaction Amount Distribution', fontsize=14)\n",
    "ax[1].set_xlim([min(amount_feature), max(amount_feature)])\n",
    "\n",
    "plt.show()"
   ]
  },
  {
   "cell_type": "code",
   "execution_count": 9,
   "id": "018a5bb9",
   "metadata": {},
   "outputs": [
    {
     "data": {
      "image/png": "[encoded data removed]",
      "text/plain": [
       "<Figure size 1440x1440 with 31 Axes>"
      ]
     },
     "metadata": {
      "needs_background": "light"
     },
     "output_type": "display_data"
    }
   ],
   "source": [
    "# plot of all features' log distributions\n",
    "def draw_histograms(dataframe, features, rows, cols):\n",
    "    fig=plt.figure(figsize=(20,20))\n",
    "    for i, feature in enumerate(features):\n",
    "        ax=fig.add_subplot(rows,cols,i+1)\n",
    "        dataframe[feature].hist(bins=20,ax=ax)\n",
    "        ax.set_title(feature+\" Distribution\",color='DarkRed')\n",
    "        ax.set_yscale('log')\n",
    "    fig.tight_layout()\n",
    "    plt.show()\n",
    "\n",
    "draw_histograms(df,df.columns,8,4)"
   ]
  },
  {
   "cell_type": "code",
   "execution_count": 10,
   "id": "caab8cca",
   "metadata": {},
   "outputs": [],
   "source": [
    "# define scalers\n",
    "std_scaler = StandardScaler()\n",
    "rob_scaler = RobustScaler()\n",
    "\n",
    "# scale amount & time\n",
    "scaled_amount = rob_scaler.fit_transform(df['Amount'].values.reshape(-1,1))\n",
    "scaled_time = rob_scaler.fit_transform(df['Time'].values.reshape(-1,1))"
   ]
  },
  {
   "cell_type": "code",
   "execution_count": 11,
   "id": "765145b5",
   "metadata": {},
   "outputs": [],
   "source": [
    "# insert the scaled features\n",
    "df.insert(0, 'scaled_amount', scaled_amount)\n",
    "df.insert(1, 'scaled_time', scaled_time)\n",
    "\n",
    "# remove previous unscaled features\n",
    "df.drop(['Time','Amount'], axis=1, inplace=True)"
   ]
  },
  {
   "cell_type": "code",
   "execution_count": 12,
   "id": "1d34b551",
   "metadata": {},
   "outputs": [
    {
     "data": {
      "image/png": "[encoded data removed]",
      "text/plain": [
       "<Figure size 864x288 with 2 Axes>"
      ]
     },
     "metadata": {
      "needs_background": "light"
     },
     "output_type": "display_data"
    }
   ],
   "source": [
    "# plot scaled time & amount distributions\n",
    "fig, ax = plt.subplots(1, 2, figsize=(12,4))\n",
    "\n",
    "sns.distplot(scaled_time, ax=ax[0], color='c')\n",
    "ax[0].set_title('Scaled Transaction Time Distribution', fontsize=14)\n",
    "ax[0].set_xlim([min(scaled_time), max(scaled_time)])\n",
    "\n",
    "sns.distplot(scaled_amount, ax=ax[1], color='b')\n",
    "ax[1].set_title('Scaled Transaction Amount Distribution', fontsize=14)\n",
    "ax[1].set_xlim([min(scaled_amount), max(scaled_amount)])\n",
    "\n",
    "plt.show()"
   ]
  },
  {
   "cell_type": "markdown",
   "id": "f70e5487",
   "metadata": {},
   "source": [
    "## Random Search To Optimize XGBoost Parameters\n",
    "\n",
    "* iterates through all parameters to find the best combination\n",
    "\n",
    "\n",
    "* number of iterations is set as 3, otherwise the calculation time would be very long\n",
    "\n",
    "\n",
    "* but in order to find the optimal parameter setting, you should set iterations as 500 and wait overnight"
   ]
  },
  {
   "cell_type": "code",
   "execution_count": 32,
   "id": "10409f0e",
   "metadata": {},
   "outputs": [],
   "source": [
    "# setting X and y \n",
    "y=df['Class']\n",
    "X=df.drop('Class', axis=1)"
   ]
  },
  {
   "cell_type": "code",
   "execution_count": 65,
   "id": "63e04b40",
   "metadata": {
    "scrolled": true
   },
   "outputs": [
    {
     "name": "stdout",
     "output_type": "stream",
     "text": [
      "[21:30:17] WARNING: /private/var/folders/b8/fm9sphq57_38t7mgnzjkdvz80000gn/T/pip-install-ppd_o4zb/xgboost_f6827062257e47f88ff132cd08a1f211/build/temp.macosx-11-arm64-3.8/xgboost/src/learner.cc:576: \n",
      "Parameters: { \"boosting_type\", \"is_unbalance\", \"min_child_samples\", \"num_leaves\", \"subsample_for_bin\" } might not be used.\n",
      "\n",
      "  This could be a false alarm, with some parameters getting used by language bindings but\n",
      "  then being mistakenly passed down to XGBoost core, or some parameter actually being used\n",
      "  but getting flagged wrongly here. Please open an issue if you find any such cases.\n",
      "\n",
      "\n",
      "[21:30:17] WARNING: /private/var/folders/b8/fm9sphq57_38t7mgnzjkdvz80000gn/T/pip-install-ppd_o4zb/xgboost_f6827062257e47f88ff132cd08a1f211/build/temp.macosx-11-arm64-3.8/xgboost/src/learner.cc:1115: Starting in XGBoost 1.3.0, the default evaluation metric used with the objective 'binary:logistic' was changed from 'error' to 'logloss'. Explicitly set eval_metric if you'd like to restore the old behavior.\n",
      "[21:30:23] WARNING: /private/var/folders/b8/fm9sphq57_38t7mgnzjkdvz80000gn/T/pip-install-ppd_o4zb/xgboost_f6827062257e47f88ff132cd08a1f211/build/temp.macosx-11-arm64-3.8/xgboost/src/learner.cc:576: \n",
      "Parameters: { \"boosting_type\", \"is_unbalance\", \"min_child_samples\", \"num_leaves\", \"subsample_for_bin\" } might not be used.\n",
      "\n",
      "  This could be a false alarm, with some parameters getting used by language bindings but\n",
      "  then being mistakenly passed down to XGBoost core, or some parameter actually being used\n",
      "  but getting flagged wrongly here. Please open an issue if you find any such cases.\n",
      "\n",
      "\n",
      "[21:30:24] WARNING: /private/var/folders/b8/fm9sphq57_38t7mgnzjkdvz80000gn/T/pip-install-ppd_o4zb/xgboost_f6827062257e47f88ff132cd08a1f211/build/temp.macosx-11-arm64-3.8/xgboost/src/learner.cc:1115: Starting in XGBoost 1.3.0, the default evaluation metric used with the objective 'binary:logistic' was changed from 'error' to 'logloss'. Explicitly set eval_metric if you'd like to restore the old behavior.\n",
      "[21:30:30] WARNING: /private/var/folders/b8/fm9sphq57_38t7mgnzjkdvz80000gn/T/pip-install-ppd_o4zb/xgboost_f6827062257e47f88ff132cd08a1f211/build/temp.macosx-11-arm64-3.8/xgboost/src/learner.cc:576: \n",
      "Parameters: { \"boosting_type\", \"is_unbalance\", \"min_child_samples\", \"num_leaves\", \"subsample_for_bin\" } might not be used.\n",
      "\n",
      "  This could be a false alarm, with some parameters getting used by language bindings but\n",
      "  then being mistakenly passed down to XGBoost core, or some parameter actually being used\n",
      "  but getting flagged wrongly here. Please open an issue if you find any such cases.\n",
      "\n",
      "\n",
      "[21:30:30] WARNING: /private/var/folders/b8/fm9sphq57_38t7mgnzjkdvz80000gn/T/pip-install-ppd_o4zb/xgboost_f6827062257e47f88ff132cd08a1f211/build/temp.macosx-11-arm64-3.8/xgboost/src/learner.cc:1115: Starting in XGBoost 1.3.0, the default evaluation metric used with the objective 'binary:logistic' was changed from 'error' to 'logloss'. Explicitly set eval_metric if you'd like to restore the old behavior.\n",
      "[21:30:37] WARNING: /private/var/folders/b8/fm9sphq57_38t7mgnzjkdvz80000gn/T/pip-install-ppd_o4zb/xgboost_f6827062257e47f88ff132cd08a1f211/build/temp.macosx-11-arm64-3.8/xgboost/src/learner.cc:576: \n",
      "Parameters: { \"boosting_type\", \"is_unbalance\", \"min_child_samples\", \"num_leaves\", \"subsample_for_bin\" } might not be used.\n",
      "\n",
      "  This could be a false alarm, with some parameters getting used by language bindings but\n",
      "  then being mistakenly passed down to XGBoost core, or some parameter actually being used\n",
      "  but getting flagged wrongly here. Please open an issue if you find any such cases.\n",
      "\n",
      "\n",
      "[21:30:37] WARNING: /private/var/folders/b8/fm9sphq57_38t7mgnzjkdvz80000gn/T/pip-install-ppd_o4zb/xgboost_f6827062257e47f88ff132cd08a1f211/build/temp.macosx-11-arm64-3.8/xgboost/src/learner.cc:1115: Starting in XGBoost 1.3.0, the default evaluation metric used with the objective 'binary:logistic' was changed from 'error' to 'logloss'. Explicitly set eval_metric if you'd like to restore the old behavior.\n",
      "[21:30:43] WARNING: /private/var/folders/b8/fm9sphq57_38t7mgnzjkdvz80000gn/T/pip-install-ppd_o4zb/xgboost_f6827062257e47f88ff132cd08a1f211/build/temp.macosx-11-arm64-3.8/xgboost/src/learner.cc:576: \n",
      "Parameters: { \"boosting_type\", \"is_unbalance\", \"min_child_samples\", \"num_leaves\", \"subsample_for_bin\" } might not be used.\n",
      "\n",
      "  This could be a false alarm, with some parameters getting used by language bindings but\n",
      "  then being mistakenly passed down to XGBoost core, or some parameter actually being used\n",
      "  but getting flagged wrongly here. Please open an issue if you find any such cases.\n",
      "\n",
      "\n",
      "[21:30:44] WARNING: /private/var/folders/b8/fm9sphq57_38t7mgnzjkdvz80000gn/T/pip-install-ppd_o4zb/xgboost_f6827062257e47f88ff132cd08a1f211/build/temp.macosx-11-arm64-3.8/xgboost/src/learner.cc:1115: Starting in XGBoost 1.3.0, the default evaluation metric used with the objective 'binary:logistic' was changed from 'error' to 'logloss'. Explicitly set eval_metric if you'd like to restore the old behavior.\n",
      "[21:30:50] WARNING: /private/var/folders/b8/fm9sphq57_38t7mgnzjkdvz80000gn/T/pip-install-ppd_o4zb/xgboost_f6827062257e47f88ff132cd08a1f211/build/temp.macosx-11-arm64-3.8/xgboost/src/learner.cc:576: \n",
      "Parameters: { \"boosting_type\", \"is_unbalance\", \"min_child_samples\", \"num_leaves\", \"subsample_for_bin\" } might not be used.\n",
      "\n",
      "  This could be a false alarm, with some parameters getting used by language bindings but\n",
      "  then being mistakenly passed down to XGBoost core, or some parameter actually being used\n",
      "  but getting flagged wrongly here. Please open an issue if you find any such cases.\n",
      "\n",
      "\n",
      "[21:30:50] WARNING: /private/var/folders/b8/fm9sphq57_38t7mgnzjkdvz80000gn/T/pip-install-ppd_o4zb/xgboost_f6827062257e47f88ff132cd08a1f211/build/temp.macosx-11-arm64-3.8/xgboost/src/learner.cc:1115: Starting in XGBoost 1.3.0, the default evaluation metric used with the objective 'binary:logistic' was changed from 'error' to 'logloss'. Explicitly set eval_metric if you'd like to restore the old behavior.\n",
      "[21:30:59] WARNING: /private/var/folders/b8/fm9sphq57_38t7mgnzjkdvz80000gn/T/pip-install-ppd_o4zb/xgboost_f6827062257e47f88ff132cd08a1f211/build/temp.macosx-11-arm64-3.8/xgboost/src/learner.cc:576: \n",
      "Parameters: { \"boosting_type\", \"is_unbalance\", \"min_child_samples\", \"num_leaves\", \"subsample_for_bin\" } might not be used.\n",
      "\n",
      "  This could be a false alarm, with some parameters getting used by language bindings but\n",
      "  then being mistakenly passed down to XGBoost core, or some parameter actually being used\n",
      "  but getting flagged wrongly here. Please open an issue if you find any such cases.\n",
      "\n",
      "\n",
      "[21:30:59] WARNING: /private/var/folders/b8/fm9sphq57_38t7mgnzjkdvz80000gn/T/pip-install-ppd_o4zb/xgboost_f6827062257e47f88ff132cd08a1f211/build/temp.macosx-11-arm64-3.8/xgboost/src/learner.cc:1115: Starting in XGBoost 1.3.0, the default evaluation metric used with the objective 'binary:logistic' was changed from 'error' to 'logloss'. Explicitly set eval_metric if you'd like to restore the old behavior.\n",
      "[21:31:07] WARNING: /private/var/folders/b8/fm9sphq57_38t7mgnzjkdvz80000gn/T/pip-install-ppd_o4zb/xgboost_f6827062257e47f88ff132cd08a1f211/build/temp.macosx-11-arm64-3.8/xgboost/src/learner.cc:576: \n",
      "Parameters: { \"boosting_type\", \"is_unbalance\", \"min_child_samples\", \"num_leaves\", \"subsample_for_bin\" } might not be used.\n",
      "\n",
      "  This could be a false alarm, with some parameters getting used by language bindings but\n",
      "  then being mistakenly passed down to XGBoost core, or some parameter actually being used\n",
      "  but getting flagged wrongly here. Please open an issue if you find any such cases.\n",
      "\n",
      "\n",
      "[21:31:07] WARNING: /private/var/folders/b8/fm9sphq57_38t7mgnzjkdvz80000gn/T/pip-install-ppd_o4zb/xgboost_f6827062257e47f88ff132cd08a1f211/build/temp.macosx-11-arm64-3.8/xgboost/src/learner.cc:1115: Starting in XGBoost 1.3.0, the default evaluation metric used with the objective 'binary:logistic' was changed from 'error' to 'logloss'. Explicitly set eval_metric if you'd like to restore the old behavior.\n",
      "[21:31:15] WARNING: /private/var/folders/b8/fm9sphq57_38t7mgnzjkdvz80000gn/T/pip-install-ppd_o4zb/xgboost_f6827062257e47f88ff132cd08a1f211/build/temp.macosx-11-arm64-3.8/xgboost/src/learner.cc:576: \n",
      "Parameters: { \"boosting_type\", \"is_unbalance\", \"min_child_samples\", \"num_leaves\", \"subsample_for_bin\" } might not be used.\n",
      "\n",
      "  This could be a false alarm, with some parameters getting used by language bindings but\n",
      "  then being mistakenly passed down to XGBoost core, or some parameter actually being used\n",
      "  but getting flagged wrongly here. Please open an issue if you find any such cases.\n",
      "\n",
      "\n",
      "[21:31:16] WARNING: /private/var/folders/b8/fm9sphq57_38t7mgnzjkdvz80000gn/T/pip-install-ppd_o4zb/xgboost_f6827062257e47f88ff132cd08a1f211/build/temp.macosx-11-arm64-3.8/xgboost/src/learner.cc:1115: Starting in XGBoost 1.3.0, the default evaluation metric used with the objective 'binary:logistic' was changed from 'error' to 'logloss'. Explicitly set eval_metric if you'd like to restore the old behavior.\n"
     ]
    },
    {
     "name": "stdout",
     "output_type": "stream",
     "text": [
      "[21:31:24] WARNING: /private/var/folders/b8/fm9sphq57_38t7mgnzjkdvz80000gn/T/pip-install-ppd_o4zb/xgboost_f6827062257e47f88ff132cd08a1f211/build/temp.macosx-11-arm64-3.8/xgboost/src/learner.cc:576: \n",
      "Parameters: { \"boosting_type\", \"is_unbalance\", \"min_child_samples\", \"num_leaves\", \"subsample_for_bin\" } might not be used.\n",
      "\n",
      "  This could be a false alarm, with some parameters getting used by language bindings but\n",
      "  then being mistakenly passed down to XGBoost core, or some parameter actually being used\n",
      "  but getting flagged wrongly here. Please open an issue if you find any such cases.\n",
      "\n",
      "\n",
      "[21:31:24] WARNING: /private/var/folders/b8/fm9sphq57_38t7mgnzjkdvz80000gn/T/pip-install-ppd_o4zb/xgboost_f6827062257e47f88ff132cd08a1f211/build/temp.macosx-11-arm64-3.8/xgboost/src/learner.cc:1115: Starting in XGBoost 1.3.0, the default evaluation metric used with the objective 'binary:logistic' was changed from 'error' to 'logloss'. Explicitly set eval_metric if you'd like to restore the old behavior.\n",
      "[21:31:33] WARNING: /private/var/folders/b8/fm9sphq57_38t7mgnzjkdvz80000gn/T/pip-install-ppd_o4zb/xgboost_f6827062257e47f88ff132cd08a1f211/build/temp.macosx-11-arm64-3.8/xgboost/src/learner.cc:576: \n",
      "Parameters: { \"boosting_type\", \"is_unbalance\", \"min_child_samples\", \"num_leaves\", \"subsample_for_bin\" } might not be used.\n",
      "\n",
      "  This could be a false alarm, with some parameters getting used by language bindings but\n",
      "  then being mistakenly passed down to XGBoost core, or some parameter actually being used\n",
      "  but getting flagged wrongly here. Please open an issue if you find any such cases.\n",
      "\n",
      "\n",
      "[21:31:33] WARNING: /private/var/folders/b8/fm9sphq57_38t7mgnzjkdvz80000gn/T/pip-install-ppd_o4zb/xgboost_f6827062257e47f88ff132cd08a1f211/build/temp.macosx-11-arm64-3.8/xgboost/src/learner.cc:1115: Starting in XGBoost 1.3.0, the default evaluation metric used with the objective 'binary:logistic' was changed from 'error' to 'logloss'. Explicitly set eval_metric if you'd like to restore the old behavior.\n",
      "[21:31:42] WARNING: /private/var/folders/b8/fm9sphq57_38t7mgnzjkdvz80000gn/T/pip-install-ppd_o4zb/xgboost_f6827062257e47f88ff132cd08a1f211/build/temp.macosx-11-arm64-3.8/xgboost/src/learner.cc:576: \n",
      "Parameters: { \"boosting_type\", \"is_unbalance\", \"min_child_samples\", \"num_leaves\", \"subsample_for_bin\" } might not be used.\n",
      "\n",
      "  This could be a false alarm, with some parameters getting used by language bindings but\n",
      "  then being mistakenly passed down to XGBoost core, or some parameter actually being used\n",
      "  but getting flagged wrongly here. Please open an issue if you find any such cases.\n",
      "\n",
      "\n",
      "[21:31:42] WARNING: /private/var/folders/b8/fm9sphq57_38t7mgnzjkdvz80000gn/T/pip-install-ppd_o4zb/xgboost_f6827062257e47f88ff132cd08a1f211/build/temp.macosx-11-arm64-3.8/xgboost/src/learner.cc:1115: Starting in XGBoost 1.3.0, the default evaluation metric used with the objective 'binary:logistic' was changed from 'error' to 'logloss'. Explicitly set eval_metric if you'd like to restore the old behavior.\n",
      "[21:31:51] WARNING: /private/var/folders/b8/fm9sphq57_38t7mgnzjkdvz80000gn/T/pip-install-ppd_o4zb/xgboost_f6827062257e47f88ff132cd08a1f211/build/temp.macosx-11-arm64-3.8/xgboost/src/learner.cc:576: \n",
      "Parameters: { \"boosting_type\", \"is_unbalance\", \"min_child_samples\", \"num_leaves\", \"subsample_for_bin\" } might not be used.\n",
      "\n",
      "  This could be a false alarm, with some parameters getting used by language bindings but\n",
      "  then being mistakenly passed down to XGBoost core, or some parameter actually being used\n",
      "  but getting flagged wrongly here. Please open an issue if you find any such cases.\n",
      "\n",
      "\n",
      "[21:31:51] WARNING: /private/var/folders/b8/fm9sphq57_38t7mgnzjkdvz80000gn/T/pip-install-ppd_o4zb/xgboost_f6827062257e47f88ff132cd08a1f211/build/temp.macosx-11-arm64-3.8/xgboost/src/learner.cc:1115: Starting in XGBoost 1.3.0, the default evaluation metric used with the objective 'binary:logistic' was changed from 'error' to 'logloss'. Explicitly set eval_metric if you'd like to restore the old behavior.\n",
      "[21:32:00] WARNING: /private/var/folders/b8/fm9sphq57_38t7mgnzjkdvz80000gn/T/pip-install-ppd_o4zb/xgboost_f6827062257e47f88ff132cd08a1f211/build/temp.macosx-11-arm64-3.8/xgboost/src/learner.cc:576: \n",
      "Parameters: { \"boosting_type\", \"is_unbalance\", \"min_child_samples\", \"num_leaves\", \"subsample_for_bin\" } might not be used.\n",
      "\n",
      "  This could be a false alarm, with some parameters getting used by language bindings but\n",
      "  then being mistakenly passed down to XGBoost core, or some parameter actually being used\n",
      "  but getting flagged wrongly here. Please open an issue if you find any such cases.\n",
      "\n",
      "\n",
      "[21:32:01] WARNING: /private/var/folders/b8/fm9sphq57_38t7mgnzjkdvz80000gn/T/pip-install-ppd_o4zb/xgboost_f6827062257e47f88ff132cd08a1f211/build/temp.macosx-11-arm64-3.8/xgboost/src/learner.cc:1115: Starting in XGBoost 1.3.0, the default evaluation metric used with the objective 'binary:logistic' was changed from 'error' to 'logloss'. Explicitly set eval_metric if you'd like to restore the old behavior.\n",
      "[21:32:10] WARNING: /private/var/folders/b8/fm9sphq57_38t7mgnzjkdvz80000gn/T/pip-install-ppd_o4zb/xgboost_f6827062257e47f88ff132cd08a1f211/build/temp.macosx-11-arm64-3.8/xgboost/src/learner.cc:576: \n",
      "Parameters: { \"boosting_type\", \"is_unbalance\", \"min_child_samples\", \"num_leaves\", \"subsample_for_bin\" } might not be used.\n",
      "\n",
      "  This could be a false alarm, with some parameters getting used by language bindings but\n",
      "  then being mistakenly passed down to XGBoost core, or some parameter actually being used\n",
      "  but getting flagged wrongly here. Please open an issue if you find any such cases.\n",
      "\n",
      "\n",
      "[21:32:10] WARNING: /private/var/folders/b8/fm9sphq57_38t7mgnzjkdvz80000gn/T/pip-install-ppd_o4zb/xgboost_f6827062257e47f88ff132cd08a1f211/build/temp.macosx-11-arm64-3.8/xgboost/src/learner.cc:1115: Starting in XGBoost 1.3.0, the default evaluation metric used with the objective 'binary:logistic' was changed from 'error' to 'logloss'. Explicitly set eval_metric if you'd like to restore the old behavior.\n",
      "[21:32:19] WARNING: /private/var/folders/b8/fm9sphq57_38t7mgnzjkdvz80000gn/T/pip-install-ppd_o4zb/xgboost_f6827062257e47f88ff132cd08a1f211/build/temp.macosx-11-arm64-3.8/xgboost/src/learner.cc:576: \n",
      "Parameters: { \"boosting_type\", \"is_unbalance\", \"min_child_samples\", \"num_leaves\", \"subsample_for_bin\" } might not be used.\n",
      "\n",
      "  This could be a false alarm, with some parameters getting used by language bindings but\n",
      "  then being mistakenly passed down to XGBoost core, or some parameter actually being used\n",
      "  but getting flagged wrongly here. Please open an issue if you find any such cases.\n",
      "\n",
      "\n",
      "[21:32:19] WARNING: /private/var/folders/b8/fm9sphq57_38t7mgnzjkdvz80000gn/T/pip-install-ppd_o4zb/xgboost_f6827062257e47f88ff132cd08a1f211/build/temp.macosx-11-arm64-3.8/xgboost/src/learner.cc:1115: Starting in XGBoost 1.3.0, the default evaluation metric used with the objective 'binary:logistic' was changed from 'error' to 'logloss'. Explicitly set eval_metric if you'd like to restore the old behavior.\n",
      "[21:32:31] WARNING: /private/var/folders/b8/fm9sphq57_38t7mgnzjkdvz80000gn/T/pip-install-ppd_o4zb/xgboost_f6827062257e47f88ff132cd08a1f211/build/temp.macosx-11-arm64-3.8/xgboost/src/learner.cc:576: \n",
      "Parameters: { \"boosting_type\", \"is_unbalance\", \"min_child_samples\", \"num_leaves\", \"subsample_for_bin\" } might not be used.\n",
      "\n",
      "  This could be a false alarm, with some parameters getting used by language bindings but\n",
      "  then being mistakenly passed down to XGBoost core, or some parameter actually being used\n",
      "  but getting flagged wrongly here. Please open an issue if you find any such cases.\n",
      "\n",
      "\n",
      "[21:32:31] WARNING: /private/var/folders/b8/fm9sphq57_38t7mgnzjkdvz80000gn/T/pip-install-ppd_o4zb/xgboost_f6827062257e47f88ff132cd08a1f211/build/temp.macosx-11-arm64-3.8/xgboost/src/learner.cc:1115: Starting in XGBoost 1.3.0, the default evaluation metric used with the objective 'binary:logistic' was changed from 'error' to 'logloss'. Explicitly set eval_metric if you'd like to restore the old behavior.\n",
      "[21:32:44] WARNING: /private/var/folders/b8/fm9sphq57_38t7mgnzjkdvz80000gn/T/pip-install-ppd_o4zb/xgboost_f6827062257e47f88ff132cd08a1f211/build/temp.macosx-11-arm64-3.8/xgboost/src/learner.cc:576: \n",
      "Parameters: { \"boosting_type\", \"is_unbalance\", \"min_child_samples\", \"num_leaves\", \"subsample_for_bin\" } might not be used.\n",
      "\n",
      "  This could be a false alarm, with some parameters getting used by language bindings but\n",
      "  then being mistakenly passed down to XGBoost core, or some parameter actually being used\n",
      "  but getting flagged wrongly here. Please open an issue if you find any such cases.\n",
      "\n",
      "\n"
     ]
    },
    {
     "name": "stdout",
     "output_type": "stream",
     "text": [
      "[21:32:45] WARNING: /private/var/folders/b8/fm9sphq57_38t7mgnzjkdvz80000gn/T/pip-install-ppd_o4zb/xgboost_f6827062257e47f88ff132cd08a1f211/build/temp.macosx-11-arm64-3.8/xgboost/src/learner.cc:1115: Starting in XGBoost 1.3.0, the default evaluation metric used with the objective 'binary:logistic' was changed from 'error' to 'logloss'. Explicitly set eval_metric if you'd like to restore the old behavior.\n",
      "[21:32:58] WARNING: /private/var/folders/b8/fm9sphq57_38t7mgnzjkdvz80000gn/T/pip-install-ppd_o4zb/xgboost_f6827062257e47f88ff132cd08a1f211/build/temp.macosx-11-arm64-3.8/xgboost/src/learner.cc:576: \n",
      "Parameters: { \"boosting_type\", \"is_unbalance\", \"min_child_samples\", \"num_leaves\", \"subsample_for_bin\" } might not be used.\n",
      "\n",
      "  This could be a false alarm, with some parameters getting used by language bindings but\n",
      "  then being mistakenly passed down to XGBoost core, or some parameter actually being used\n",
      "  but getting flagged wrongly here. Please open an issue if you find any such cases.\n",
      "\n",
      "\n",
      "[21:32:58] WARNING: /private/var/folders/b8/fm9sphq57_38t7mgnzjkdvz80000gn/T/pip-install-ppd_o4zb/xgboost_f6827062257e47f88ff132cd08a1f211/build/temp.macosx-11-arm64-3.8/xgboost/src/learner.cc:1115: Starting in XGBoost 1.3.0, the default evaluation metric used with the objective 'binary:logistic' was changed from 'error' to 'logloss'. Explicitly set eval_metric if you'd like to restore the old behavior.\n",
      "[21:33:10] WARNING: /private/var/folders/b8/fm9sphq57_38t7mgnzjkdvz80000gn/T/pip-install-ppd_o4zb/xgboost_f6827062257e47f88ff132cd08a1f211/build/temp.macosx-11-arm64-3.8/xgboost/src/learner.cc:576: \n",
      "Parameters: { \"boosting_type\", \"is_unbalance\", \"min_child_samples\", \"num_leaves\", \"subsample_for_bin\" } might not be used.\n",
      "\n",
      "  This could be a false alarm, with some parameters getting used by language bindings but\n",
      "  then being mistakenly passed down to XGBoost core, or some parameter actually being used\n",
      "  but getting flagged wrongly here. Please open an issue if you find any such cases.\n",
      "\n",
      "\n",
      "[21:33:10] WARNING: /private/var/folders/b8/fm9sphq57_38t7mgnzjkdvz80000gn/T/pip-install-ppd_o4zb/xgboost_f6827062257e47f88ff132cd08a1f211/build/temp.macosx-11-arm64-3.8/xgboost/src/learner.cc:1115: Starting in XGBoost 1.3.0, the default evaluation metric used with the objective 'binary:logistic' was changed from 'error' to 'logloss'. Explicitly set eval_metric if you'd like to restore the old behavior.\n",
      "[21:33:23] WARNING: /private/var/folders/b8/fm9sphq57_38t7mgnzjkdvz80000gn/T/pip-install-ppd_o4zb/xgboost_f6827062257e47f88ff132cd08a1f211/build/temp.macosx-11-arm64-3.8/xgboost/src/learner.cc:576: \n",
      "Parameters: { \"boosting_type\", \"is_unbalance\", \"min_child_samples\", \"num_leaves\", \"subsample_for_bin\" } might not be used.\n",
      "\n",
      "  This could be a false alarm, with some parameters getting used by language bindings but\n",
      "  then being mistakenly passed down to XGBoost core, or some parameter actually being used\n",
      "  but getting flagged wrongly here. Please open an issue if you find any such cases.\n",
      "\n",
      "\n",
      "[21:33:23] WARNING: /private/var/folders/b8/fm9sphq57_38t7mgnzjkdvz80000gn/T/pip-install-ppd_o4zb/xgboost_f6827062257e47f88ff132cd08a1f211/build/temp.macosx-11-arm64-3.8/xgboost/src/learner.cc:1115: Starting in XGBoost 1.3.0, the default evaluation metric used with the objective 'binary:logistic' was changed from 'error' to 'logloss'. Explicitly set eval_metric if you'd like to restore the old behavior.\n",
      "[21:33:36] WARNING: /private/var/folders/b8/fm9sphq57_38t7mgnzjkdvz80000gn/T/pip-install-ppd_o4zb/xgboost_f6827062257e47f88ff132cd08a1f211/build/temp.macosx-11-arm64-3.8/xgboost/src/learner.cc:576: \n",
      "Parameters: { \"boosting_type\", \"is_unbalance\", \"min_child_samples\", \"num_leaves\", \"subsample_for_bin\" } might not be used.\n",
      "\n",
      "  This could be a false alarm, with some parameters getting used by language bindings but\n",
      "  then being mistakenly passed down to XGBoost core, or some parameter actually being used\n",
      "  but getting flagged wrongly here. Please open an issue if you find any such cases.\n",
      "\n",
      "\n",
      "[21:33:37] WARNING: /private/var/folders/b8/fm9sphq57_38t7mgnzjkdvz80000gn/T/pip-install-ppd_o4zb/xgboost_f6827062257e47f88ff132cd08a1f211/build/temp.macosx-11-arm64-3.8/xgboost/src/learner.cc:1115: Starting in XGBoost 1.3.0, the default evaluation metric used with the objective 'binary:logistic' was changed from 'error' to 'logloss'. Explicitly set eval_metric if you'd like to restore the old behavior.\n",
      "[21:33:51] WARNING: /private/var/folders/b8/fm9sphq57_38t7mgnzjkdvz80000gn/T/pip-install-ppd_o4zb/xgboost_f6827062257e47f88ff132cd08a1f211/build/temp.macosx-11-arm64-3.8/xgboost/src/learner.cc:576: \n",
      "Parameters: { \"boosting_type\", \"is_unbalance\", \"min_child_samples\", \"num_leaves\", \"subsample_for_bin\" } might not be used.\n",
      "\n",
      "  This could be a false alarm, with some parameters getting used by language bindings but\n",
      "  then being mistakenly passed down to XGBoost core, or some parameter actually being used\n",
      "  but getting flagged wrongly here. Please open an issue if you find any such cases.\n",
      "\n",
      "\n",
      "[21:33:51] WARNING: /private/var/folders/b8/fm9sphq57_38t7mgnzjkdvz80000gn/T/pip-install-ppd_o4zb/xgboost_f6827062257e47f88ff132cd08a1f211/build/temp.macosx-11-arm64-3.8/xgboost/src/learner.cc:1115: Starting in XGBoost 1.3.0, the default evaluation metric used with the objective 'binary:logistic' was changed from 'error' to 'logloss'. Explicitly set eval_metric if you'd like to restore the old behavior.\n",
      "[21:34:05] WARNING: /private/var/folders/b8/fm9sphq57_38t7mgnzjkdvz80000gn/T/pip-install-ppd_o4zb/xgboost_f6827062257e47f88ff132cd08a1f211/build/temp.macosx-11-arm64-3.8/xgboost/src/learner.cc:576: \n",
      "Parameters: { \"boosting_type\", \"is_unbalance\", \"min_child_samples\", \"num_leaves\", \"subsample_for_bin\" } might not be used.\n",
      "\n",
      "  This could be a false alarm, with some parameters getting used by language bindings but\n",
      "  then being mistakenly passed down to XGBoost core, or some parameter actually being used\n",
      "  but getting flagged wrongly here. Please open an issue if you find any such cases.\n",
      "\n",
      "\n",
      "[21:34:05] WARNING: /private/var/folders/b8/fm9sphq57_38t7mgnzjkdvz80000gn/T/pip-install-ppd_o4zb/xgboost_f6827062257e47f88ff132cd08a1f211/build/temp.macosx-11-arm64-3.8/xgboost/src/learner.cc:1115: Starting in XGBoost 1.3.0, the default evaluation metric used with the objective 'binary:logistic' was changed from 'error' to 'logloss'. Explicitly set eval_metric if you'd like to restore the old behavior.\n",
      "[21:34:18] WARNING: /private/var/folders/b8/fm9sphq57_38t7mgnzjkdvz80000gn/T/pip-install-ppd_o4zb/xgboost_f6827062257e47f88ff132cd08a1f211/build/temp.macosx-11-arm64-3.8/xgboost/src/learner.cc:576: \n",
      "Parameters: { \"boosting_type\", \"is_unbalance\", \"min_child_samples\", \"num_leaves\", \"subsample_for_bin\" } might not be used.\n",
      "\n",
      "  This could be a false alarm, with some parameters getting used by language bindings but\n",
      "  then being mistakenly passed down to XGBoost core, or some parameter actually being used\n",
      "  but getting flagged wrongly here. Please open an issue if you find any such cases.\n",
      "\n",
      "\n",
      "[21:34:18] WARNING: /private/var/folders/b8/fm9sphq57_38t7mgnzjkdvz80000gn/T/pip-install-ppd_o4zb/xgboost_f6827062257e47f88ff132cd08a1f211/build/temp.macosx-11-arm64-3.8/xgboost/src/learner.cc:1115: Starting in XGBoost 1.3.0, the default evaluation metric used with the objective 'binary:logistic' was changed from 'error' to 'logloss'. Explicitly set eval_metric if you'd like to restore the old behavior.\n",
      "[21:34:31] WARNING: /private/var/folders/b8/fm9sphq57_38t7mgnzjkdvz80000gn/T/pip-install-ppd_o4zb/xgboost_f6827062257e47f88ff132cd08a1f211/build/temp.macosx-11-arm64-3.8/xgboost/src/learner.cc:576: \n",
      "Parameters: { \"boosting_type\", \"is_unbalance\", \"min_child_samples\", \"num_leaves\", \"subsample_for_bin\" } might not be used.\n",
      "\n",
      "  This could be a false alarm, with some parameters getting used by language bindings but\n",
      "  then being mistakenly passed down to XGBoost core, or some parameter actually being used\n",
      "  but getting flagged wrongly here. Please open an issue if you find any such cases.\n",
      "\n",
      "\n",
      "[21:34:31] WARNING: /private/var/folders/b8/fm9sphq57_38t7mgnzjkdvz80000gn/T/pip-install-ppd_o4zb/xgboost_f6827062257e47f88ff132cd08a1f211/build/temp.macosx-11-arm64-3.8/xgboost/src/learner.cc:1115: Starting in XGBoost 1.3.0, the default evaluation metric used with the objective 'binary:logistic' was changed from 'error' to 'logloss'. Explicitly set eval_metric if you'd like to restore the old behavior.\n"
     ]
    },
    {
     "data": {
      "text/plain": [
       "RandomizedSearchCV(cv=5,\n",
       "                   estimator=XGBClassifier(base_score=None, booster=None,\n",
       "                                           colsample_bylevel=None,\n",
       "                                           colsample_bynode=None,\n",
       "                                           colsample_bytree=None,\n",
       "                                           enable_categorical=False, gamma=None,\n",
       "                                           gpu_id=None, importance_type=None,\n",
       "                                           interaction_constraints=None,\n",
       "                                           learning_rate=None,\n",
       "                                           max_delta_step=None, max_depth=None,\n",
       "                                           min_child_weight=None, missing=nan,\n",
       "                                           monotone_constraints...\n",
       "                                                      0.595959595959596,\n",
       "                                                      0.601010101010101,\n",
       "                                                      0.6060606060606061,\n",
       "                                                      0.6111111111111112,\n",
       "                                                      0.6161616161616161,\n",
       "                                                      0.6212121212121212,\n",
       "                                                      0.6262626262626263,\n",
       "                                                      0.6313131313131313,\n",
       "                                                      0.6363636363636364,\n",
       "                                                      0.6414141414141414,\n",
       "                                                      0.6464646464646464, ...],\n",
       "                                        'subsample_for_bin': [20000, 40000,\n",
       "                                                              60000, 80000,\n",
       "                                                              100000, 120000,\n",
       "                                                              140000, 160000,\n",
       "                                                              180000, 200000,\n",
       "                                                              220000, 240000,\n",
       "                                                              260000, 280000]},\n",
       "                   scoring='neg_mean_squared_error')"
      ]
     },
     "execution_count": 65,
     "metadata": {},
     "output_type": "execute_result"
    }
   ],
   "source": [
    "X_train, X_test, y_train, y_test = train_test_split(X, y, test_size=0.1)\n",
    "\n",
    "XGBR = xgb.XGBClassifier()\n",
    "\n",
    "params = {\n",
    "    \n",
    "    'boosting_type': ['gbdt', 'goss', 'dart'],\n",
    "    'num_leaves': list(range(20, 150)),\n",
    "    'learning_rate': list(np.logspace(np.log10(0.005), np.log10(0.5), base = 10, num = 1000)),\n",
    "    'subsample_for_bin': list(range(20000, 300000, 20000)),\n",
    "    'min_child_samples': list(range(20, 500, 5)),\n",
    "    'reg_alpha': list(np.linspace(0, 1)),\n",
    "    'reg_lambda': list(np.linspace(0, 1)),\n",
    "    'colsample_bytree': list(np.linspace(0.6, 1, 10)),\n",
    "    'subsample': list(np.linspace(0.5, 1, 100)),\n",
    "    'is_unbalance': [True, False]\n",
    "}\n",
    "\n",
    "n_iter_search = 5 #should be 100\n",
    "random_search = RandomizedSearchCV(XGBR, param_distributions=params,\n",
    "                                   n_iter=n_iter_search, cv=5, scoring='neg_mean_squared_error')\n",
    "\n",
    "random_search.fit(X_train, y_train)"
   ]
  },
  {
   "cell_type": "code",
   "execution_count": 66,
   "id": "5b3fb49f",
   "metadata": {},
   "outputs": [
    {
     "name": "stdout",
     "output_type": "stream",
     "text": [
      "XGBClassifier(base_score=0.5, booster='gbtree', boosting_type='goss',\n",
      "              colsample_bylevel=1, colsample_bynode=1,\n",
      "              colsample_bytree=0.6444444444444444, enable_categorical=False,\n",
      "              gamma=0, gpu_id=-1, importance_type=None,\n",
      "              interaction_constraints='', is_unbalance=True,\n",
      "              learning_rate=0.07347459003124081, max_delta_step=0, max_depth=6,\n",
      "              min_child_samples=155, min_child_weight=1, missing=nan,\n",
      "              monotone_constraints='()', n_estimators=100, n_jobs=8,\n",
      "              num_leaves=83, num_parallel_tree=1, predictor='auto',\n",
      "              random_state=0, reg_alpha=0.8571428571428571, reg_lambda=0.0,\n",
      "              scale_pos_weight=1, subsample=0.9797979797979799,\n",
      "              subsample_for_bin=60000, ...)\n"
     ]
    }
   ],
   "source": [
    "best_regressor = random_search.best_estimator_\n",
    "\n",
    "y_pred = best_regressor.predict(X_test)\n",
    "\n",
    "# Calculate MAE\n",
    "rmse_pred = mean_absolute_error(y_test, y_pred)\n",
    "\n",
    "# Get predictions\n",
    "y_pred_test = best_regressor.predict(X_test)\n",
    "\n",
    "print(best_regressor)"
   ]
  },
  {
   "cell_type": "markdown",
   "id": "324a2cd2",
   "metadata": {},
   "source": [
    "# Running each model on the imbalanced dataset"
   ]
  },
  {
   "cell_type": "code",
   "execution_count": 43,
   "id": "34e39cc4",
   "metadata": {},
   "outputs": [],
   "source": [
    "# We create a class, define its objects and create a method\n",
    "# Upon being called, the method displays the evaluation metrics associated with a particular model \n",
    "\n",
    "class Evaluate:\n",
    "    def __init__(self, algorithm):\n",
    "        self.algo = algorithm\n",
    "\n",
    "    def get_score(self, X_test, y_test):\n",
    "        y_pred = self.algo.predict(X_test)\n",
    "        print(classification_report(y_test, y_pred))\n",
    "        R_squared = r2_score(y_test, y_pred)\n",
    "        print(f'R squared is: {R_squared}')\n",
    "        accuracy = self.algo.score(X_test, y_test) *100\n",
    "        print(f'Accuracy is:  {accuracy}')"
   ]
  },
  {
   "cell_type": "code",
   "execution_count": 67,
   "id": "de2e3667",
   "metadata": {},
   "outputs": [],
   "source": [
    "# We set all the different algorithms in a list which we will be able to iterate through\n",
    "# At the same time we fill in the model parameters which we'll need \n",
    "\n",
    "lr_model = LogisticRegression(max_iter=10000)\n",
    "rfc_model = RandomForestClassifier(max_depth = 1)\n",
    "nb_model = GaussianNB()\n",
    "xgb_model = xgb.XGBClassifier(base_score=0.5, booster='gbtree', boosting_type='goss',\n",
    "              colsample_bylevel=1, colsample_bynode=1,\n",
    "              colsample_bytree=0.6444444444444444, enable_categorical=False,\n",
    "              gamma=0, gpu_id=-1, importance_type=None,\n",
    "              interaction_constraints='', is_unbalance=True,\n",
    "              learning_rate=0.07347459003124081, max_delta_step=0, max_depth=6,\n",
    "              min_child_samples=155, min_child_weight=1,\n",
    "              monotone_constraints='()', n_estimators=100, n_jobs=8,\n",
    "              num_leaves=83, num_parallel_tree=1, predictor='auto',\n",
    "              random_state=0, reg_alpha=0.8571428571428571, reg_lambda=0.0,\n",
    "              scale_pos_weight=1, subsample=0.9797979797979799,\n",
    "              subsample_for_bin=60000)\n",
    "list_models = [lr_model, rfc_model, nb_model, xgb_model]"
   ]
  },
  {
   "cell_type": "code",
   "execution_count": 68,
   "id": "fb0d1801",
   "metadata": {},
   "outputs": [
    {
     "name": "stdout",
     "output_type": "stream",
     "text": [
      "\n",
      "\n",
      "model is: LogisticRegression(max_iter=10000)\n",
      "              precision    recall  f1-score   support\n",
      "\n",
      "           0       1.00      1.00      1.00     56858\n",
      "           1       0.88      0.63      0.74       104\n",
      "\n",
      "    accuracy                           1.00     56962\n",
      "   macro avg       0.94      0.82      0.87     56962\n",
      "weighted avg       1.00      1.00      1.00     56962\n",
      "\n",
      "R squared is: 0.5472503023727128\n",
      "Accuracy is:  99.91748885221726\n",
      "\n",
      "\n",
      "model is: RandomForestClassifier(max_depth=1)\n",
      "              precision    recall  f1-score   support\n",
      "\n",
      "           0       1.00      1.00      1.00     56858\n",
      "           1       0.88      0.50      0.64       104\n",
      "\n",
      "    accuracy                           1.00     56962\n",
      "   macro avg       0.94      0.75      0.82     56962\n",
      "weighted avg       1.00      1.00      1.00     56962\n",
      "\n",
      "R squared is: 0.4316546348934054\n",
      "Accuracy is:  99.89642217618764\n",
      "\n",
      "\n",
      "model is: GaussianNB()\n",
      "              precision    recall  f1-score   support\n",
      "\n",
      "           0       1.00      0.98      0.99     56858\n",
      "           1       0.07      0.90      0.13       104\n",
      "\n",
      "    accuracy                           0.98     56962\n",
      "   macro avg       0.54      0.94      0.56     56962\n",
      "weighted avg       1.00      0.98      0.99     56962\n",
      "\n",
      "R squared is: -10.993050500978141\n",
      "Accuracy is:  97.8143323619255\n",
      "[21:35:29] WARNING: /private/var/folders/b8/fm9sphq57_38t7mgnzjkdvz80000gn/T/pip-install-ppd_o4zb/xgboost_f6827062257e47f88ff132cd08a1f211/build/temp.macosx-11-arm64-3.8/xgboost/src/learner.cc:576: \n",
      "Parameters: { \"boosting_type\", \"is_unbalance\", \"min_child_samples\", \"num_leaves\", \"subsample_for_bin\" } might not be used.\n",
      "\n",
      "  This could be a false alarm, with some parameters getting used by language bindings but\n",
      "  then being mistakenly passed down to XGBoost core, or some parameter actually being used\n",
      "  but getting flagged wrongly here. Please open an issue if you find any such cases.\n",
      "\n",
      "\n",
      "[21:35:30] WARNING: /private/var/folders/b8/fm9sphq57_38t7mgnzjkdvz80000gn/T/pip-install-ppd_o4zb/xgboost_f6827062257e47f88ff132cd08a1f211/build/temp.macosx-11-arm64-3.8/xgboost/src/learner.cc:1115: Starting in XGBoost 1.3.0, the default evaluation metric used with the objective 'binary:logistic' was changed from 'error' to 'logloss'. Explicitly set eval_metric if you'd like to restore the old behavior.\n",
      "\n",
      "\n",
      "model is: XGBClassifier(base_score=0.5, booster='gbtree', boosting_type='goss',\n",
      "              colsample_bylevel=1, colsample_bynode=1,\n",
      "              colsample_bytree=0.6444444444444444, enable_categorical=False,\n",
      "              gamma=0, gpu_id=-1, importance_type=None,\n",
      "              interaction_constraints='', is_unbalance=True,\n",
      "              learning_rate=0.07347459003124081, max_delta_step=0, max_depth=6,\n",
      "              min_child_samples=155, min_child_weight=1, missing=nan,\n",
      "              monotone_constraints='()', n_estimators=100, n_jobs=8,\n",
      "              num_leaves=83, num_parallel_tree=1, predictor='auto',\n",
      "              random_state=0, reg_alpha=0.8571428571428571, reg_lambda=0.0,\n",
      "              scale_pos_weight=1, subsample=0.9797979797979799,\n",
      "              subsample_for_bin=60000, ...)\n",
      "              precision    recall  f1-score   support\n",
      "\n",
      "           0       1.00      1.00      1.00     56858\n",
      "           1       0.96      0.86      0.90       104\n",
      "\n",
      "    accuracy                           1.00     56962\n",
      "   macro avg       0.98      0.93      0.95     56962\n",
      "weighted avg       1.00      1.00      1.00     56962\n",
      "\n",
      "R squared is: 0.8169735264910967\n",
      "Accuracy is:  99.96664442961975\n"
     ]
    }
   ],
   "source": [
    "# split the dataset into a training set and a testing test\n",
    "\n",
    "X_train, X_test, y_train, y_test = train_test_split(X, y, test_size = 0.2)\n",
    "\n",
    "# we iterate each model through our 4 models\n",
    "# for each we fit it the same data that we obtained above, i.e X_train and y_train\n",
    "# then we set each model as an object of the class Evaluate previously defined\n",
    "# and we call the get_score method, passing it the fitted models to be ran on X_test against the true output y_test\n",
    "\n",
    "for model in list_models:\n",
    "    model.fit(X_train, y_train)\n",
    "    model_eval = Evaluate(model)\n",
    "\n",
    "    print(f'\\n\\nmodel is: {model}')\n",
    "    model_eval.get_score(X_test, y_test)"
   ]
  },
  {
   "cell_type": "markdown",
   "id": "dc7008ec",
   "metadata": {},
   "source": [
    "# Sampling techniques"
   ]
  },
  {
   "cell_type": "markdown",
   "id": "9e64c924",
   "metadata": {},
   "source": [
    "### Undersampling"
   ]
  },
  {
   "cell_type": "code",
   "execution_count": 69,
   "id": "e2f99808",
   "metadata": {},
   "outputs": [
    {
     "name": "stdout",
     "output_type": "stream",
     "text": [
      "(284315, 31) (492, 31)\n"
     ]
    }
   ],
   "source": [
    "# split class outputs, print initial class counts\n",
    "df_class_0 = df[df['Class']==0]\n",
    "df_class_1 = df[df['Class']==1]\n",
    "count_class_0, count_class_1 = df['Class'].value_counts()\n",
    "print(df_class_0.shape, df_class_1.shape)"
   ]
  },
  {
   "cell_type": "code",
   "execution_count": 70,
   "id": "dd473631",
   "metadata": {},
   "outputs": [],
   "source": [
    "# # we return a random sample of class 0 values and of length class 1\n",
    "df_class_0_undersampling = df_class_0.sample(count_class_1)\n",
    "\n",
    "# then concatenate it with the initial values of class 1 \n",
    "df_test_undersampling = pd.concat([df_class_0_undersampling, df_class_1], axis=0)\n",
    "X_undersampling = df_test_undersampling.drop('Class', axis=1)\n",
    "y_undersampling = df_test_undersampling['Class']"
   ]
  },
  {
   "cell_type": "code",
   "execution_count": 71,
   "id": "30f06cdc",
   "metadata": {},
   "outputs": [],
   "source": [
    "# split the dataset into a training set and a testing test\n",
    "X_train, X_test, y_train, y_test = train_test_split(X_undersampling, y_undersampling, test_size=0.2, stratify=y_undersampling)"
   ]
  },
  {
   "cell_type": "code",
   "execution_count": 72,
   "id": "665ff5d0",
   "metadata": {},
   "outputs": [
    {
     "data": {
      "image/png": "[encoded data removed]",
      "text/plain": [
       "<Figure size 432x288 with 1 Axes>"
      ]
     },
     "metadata": {
      "needs_background": "light"
     },
     "output_type": "display_data"
    }
   ],
   "source": [
    "# target class count discrepancies \n",
    "P = sns.countplot(df_test_undersampling['Class'])\n",
    "P.set_xticklabels(['No Fraud','Fraud'])\n",
    "plt.show()"
   ]
  },
  {
   "cell_type": "code",
   "execution_count": 73,
   "id": "38739910",
   "metadata": {},
   "outputs": [
    {
     "name": "stdout",
     "output_type": "stream",
     "text": [
      "\n",
      "\n",
      "model is: LogisticRegression(max_iter=10000)\n",
      "              precision    recall  f1-score   support\n",
      "\n",
      "           0       0.95      0.93      0.94        98\n",
      "           1       0.93      0.95      0.94        99\n",
      "\n",
      "    accuracy                           0.94       197\n",
      "   macro avg       0.94      0.94      0.94       197\n",
      "weighted avg       0.94      0.94      0.94       197\n",
      "\n",
      "R squared is: 0.7563388991960421\n",
      "Accuracy is:  93.90862944162437\n",
      "\n",
      "\n",
      "model is: RandomForestClassifier(max_depth=1)\n",
      "              precision    recall  f1-score   support\n",
      "\n",
      "           0       0.87      0.99      0.92        98\n",
      "           1       0.99      0.85      0.91        99\n",
      "\n",
      "    accuracy                           0.92       197\n",
      "   macro avg       0.93      0.92      0.92       197\n",
      "weighted avg       0.93      0.92      0.92       197\n",
      "\n",
      "R squared is: 0.6751185322613895\n",
      "Accuracy is:  91.87817258883248\n",
      "\n",
      "\n",
      "model is: GaussianNB()\n",
      "              precision    recall  f1-score   support\n",
      "\n",
      "           0       0.88      0.98      0.93        98\n",
      "           1       0.98      0.87      0.92        99\n",
      "\n",
      "    accuracy                           0.92       197\n",
      "   macro avg       0.93      0.92      0.92       197\n",
      "weighted avg       0.93      0.92      0.92       197\n",
      "\n",
      "R squared is: 0.6954236239950526\n",
      "Accuracy is:  92.38578680203045\n",
      "[21:35:40] WARNING: /private/var/folders/b8/fm9sphq57_38t7mgnzjkdvz80000gn/T/pip-install-ppd_o4zb/xgboost_f6827062257e47f88ff132cd08a1f211/build/temp.macosx-11-arm64-3.8/xgboost/src/learner.cc:576: \n",
      "Parameters: { \"boosting_type\", \"is_unbalance\", \"min_child_samples\", \"num_leaves\", \"subsample_for_bin\" } might not be used.\n",
      "\n",
      "  This could be a false alarm, with some parameters getting used by language bindings but\n",
      "  then being mistakenly passed down to XGBoost core, or some parameter actually being used\n",
      "  but getting flagged wrongly here. Please open an issue if you find any such cases.\n",
      "\n",
      "\n",
      "[21:35:40] WARNING: /private/var/folders/b8/fm9sphq57_38t7mgnzjkdvz80000gn/T/pip-install-ppd_o4zb/xgboost_f6827062257e47f88ff132cd08a1f211/build/temp.macosx-11-arm64-3.8/xgboost/src/learner.cc:1115: Starting in XGBoost 1.3.0, the default evaluation metric used with the objective 'binary:logistic' was changed from 'error' to 'logloss'. Explicitly set eval_metric if you'd like to restore the old behavior.\n",
      "\n",
      "\n",
      "model is: XGBClassifier(base_score=0.5, booster='gbtree', boosting_type='goss',\n",
      "              colsample_bylevel=1, colsample_bynode=1,\n",
      "              colsample_bytree=0.6444444444444444, enable_categorical=False,\n",
      "              gamma=0, gpu_id=-1, importance_type=None,\n",
      "              interaction_constraints='', is_unbalance=True,\n",
      "              learning_rate=0.07347459003124081, max_delta_step=0, max_depth=6,\n",
      "              min_child_samples=155, min_child_weight=1, missing=nan,\n",
      "              monotone_constraints='()', n_estimators=100, n_jobs=8,\n",
      "              num_leaves=83, num_parallel_tree=1, predictor='auto',\n",
      "              random_state=0, reg_alpha=0.8571428571428571, reg_lambda=0.0,\n",
      "              scale_pos_weight=1, subsample=0.9797979797979799,\n",
      "              subsample_for_bin=60000, ...)\n",
      "              precision    recall  f1-score   support\n",
      "\n",
      "           0       0.91      0.94      0.92        98\n",
      "           1       0.94      0.91      0.92        99\n",
      "\n",
      "    accuracy                           0.92       197\n",
      "   macro avg       0.92      0.92      0.92       197\n",
      "weighted avg       0.92      0.92      0.92       197\n",
      "\n",
      "R squared is: 0.6954236239950526\n",
      "Accuracy is:  92.38578680203045\n"
     ]
    }
   ],
   "source": [
    "# iterate again each metrics for each model\n",
    "for model in list_models:\n",
    "    model.fit(X_train, y_train)\n",
    "    model_eval = Evaluate(model)\n",
    "\n",
    "    print(f'\\n\\nmodel is: {model}')\n",
    "    model_eval.get_score(X_test, y_test)"
   ]
  },
  {
   "cell_type": "markdown",
   "id": "2c004ce9",
   "metadata": {},
   "source": [
    "### Oversampling"
   ]
  },
  {
   "cell_type": "code",
   "execution_count": 74,
   "id": "ac41a397",
   "metadata": {},
   "outputs": [
    {
     "data": {
      "text/plain": [
       "(284315, 492)"
      ]
     },
     "execution_count": 74,
     "metadata": {},
     "output_type": "execute_result"
    }
   ],
   "source": [
    "# reminder of initial class counts\n",
    "count_class_0, count_class_1"
   ]
  },
  {
   "cell_type": "code",
   "execution_count": 75,
   "id": "c8b9e1c6",
   "metadata": {},
   "outputs": [
    {
     "name": "stdout",
     "output_type": "stream",
     "text": [
      "(492, 31)\n",
      "(568630, 31)\n"
     ]
    }
   ],
   "source": [
    "# we return a random sample of class 1 values and of length class 0\n",
    "df_class_1_oversampling = df_class_1.sample(count_class_0, replace=True)\n",
    "print(df_class_1.shape)\n",
    "\n",
    "# then concatenate it with the initial values of class 0 \n",
    "df_test_oversampling=pd.concat([df_class_0, df_class_1_oversampling]) \n",
    "print(df_test_oversampling.shape)"
   ]
  },
  {
   "cell_type": "code",
   "execution_count": 76,
   "id": "3c8067ec",
   "metadata": {},
   "outputs": [
    {
     "data": {
      "image/png": "[encoded data removed]",
      "text/plain": [
       "<Figure size 432x288 with 1 Axes>"
      ]
     },
     "metadata": {
      "needs_background": "light"
     },
     "output_type": "display_data"
    }
   ],
   "source": [
    "# target class count discrepancies \n",
    "P = sns.countplot(df_test_oversampling['Class'])\n",
    "P.set_xticklabels(['No Fraud','Fraud'])\n",
    "plt.show()"
   ]
  },
  {
   "cell_type": "code",
   "execution_count": 77,
   "id": "2b7a0908",
   "metadata": {},
   "outputs": [],
   "source": [
    "# define X and y \n",
    "X_oversampling = df_test_oversampling.drop('Class', axis=1)\n",
    "y_oversampling = df_test_oversampling['Class']"
   ]
  },
  {
   "cell_type": "code",
   "execution_count": 57,
   "id": "ddcbc262",
   "metadata": {},
   "outputs": [],
   "source": [
    "# split the dataset into a training set and a testing test\n",
    "X_train, X_test, y_train, y_test = train_test_split(X_oversampling, y_oversampling, test_size=0.2, stratify=y_oversampling)"
   ]
  },
  {
   "cell_type": "code",
   "execution_count": 58,
   "id": "85f4ef15",
   "metadata": {},
   "outputs": [
    {
     "name": "stdout",
     "output_type": "stream",
     "text": [
      "\n",
      "\n",
      "model is: LogisticRegression(max_iter=10000)\n",
      "              precision    recall  f1-score   support\n",
      "\n",
      "           0       0.93      0.98      0.95     56863\n",
      "           1       0.98      0.92      0.95     56863\n",
      "\n",
      "    accuracy                           0.95    113726\n",
      "   macro avg       0.95      0.95      0.95    113726\n",
      "weighted avg       0.95      0.95      0.95    113726\n",
      "\n",
      "R squared is: 0.8005733077748272\n",
      "Accuracy is:  95.01433269437068\n",
      "\n",
      "\n",
      "model is: RandomForestClassifier(max_depth=1)\n",
      "              precision    recall  f1-score   support\n",
      "\n",
      "           0       0.85      1.00      0.92     56863\n",
      "           1       1.00      0.83      0.91     56863\n",
      "\n",
      "    accuracy                           0.91    113726\n",
      "   macro avg       0.93      0.91      0.91    113726\n",
      "weighted avg       0.93      0.91      0.91    113726\n",
      "\n",
      "R squared is: 0.6583367040078786\n",
      "Accuracy is:  91.45841760019697\n",
      "\n",
      "\n",
      "model is: GaussianNB()\n",
      "              precision    recall  f1-score   support\n",
      "\n",
      "           0       0.87      0.97      0.92     56863\n",
      "           1       0.97      0.86      0.91     56863\n",
      "\n",
      "    accuracy                           0.92    113726\n",
      "   macro avg       0.92      0.92      0.92    113726\n",
      "weighted avg       0.92      0.92      0.92    113726\n",
      "\n",
      "R squared is: 0.6668132177338515\n",
      "Accuracy is:  91.67033044334629\n",
      "[21:24:03] WARNING: /private/var/folders/b8/fm9sphq57_38t7mgnzjkdvz80000gn/T/pip-install-ppd_o4zb/xgboost_f6827062257e47f88ff132cd08a1f211/build/temp.macosx-11-arm64-3.8/xgboost/src/learner.cc:576: \n",
      "Parameters: { \"boosting_type\", \"is_unbalance\", \"loss\", \"min_child_samples\", \"num_leaves\" } might not be used.\n",
      "\n",
      "  This could be a false alarm, with some parameters getting used by language bindings but\n",
      "  then being mistakenly passed down to XGBoost core, or some parameter actually being used\n",
      "  but getting flagged wrongly here. Please open an issue if you find any such cases.\n",
      "\n",
      "\n",
      "[21:24:03] WARNING: /private/var/folders/b8/fm9sphq57_38t7mgnzjkdvz80000gn/T/pip-install-ppd_o4zb/xgboost_f6827062257e47f88ff132cd08a1f211/build/temp.macosx-11-arm64-3.8/xgboost/src/learner.cc:1115: Starting in XGBoost 1.3.0, the default evaluation metric used with the objective 'binary:logistic' was changed from 'error' to 'logloss'. Explicitly set eval_metric if you'd like to restore the old behavior.\n",
      "\n",
      "\n",
      "model is: XGBClassifier(base_score=0.5, booster='gbtree', boosting_type='dart',\n",
      "              colsample_bylevel=1, colsample_bynode=1,\n",
      "              colsample_bytree=0.9555555555555555, enable_categorical=False,\n",
      "              gamma=0, gpu_id=-1, importance_type=None,\n",
      "              interaction_constraints='', is_unbalance=True,\n",
      "              learning_rate=0.1830347573798451, loss='ls', max_delta_step=0,\n",
      "              max_depth=3, min_child_samples=405, min_child_weight=1,\n",
      "              missing=nan, monotone_constraints='()', n_estimators=100,\n",
      "              n_jobs=8, num_leaves=39, num_parallel_tree=1, predictor='auto',\n",
      "              random_state=29, reg_alpha=0.8571428571428571,\n",
      "              reg_lambda=0.2857142857142857, scale_pos_weight=1,\n",
      "              subsample=0.6161616161616161, ...)\n",
      "              precision    recall  f1-score   support\n",
      "\n",
      "           0       1.00      1.00      1.00     56863\n",
      "           1       1.00      1.00      1.00     56863\n",
      "\n",
      "    accuracy                           1.00    113726\n",
      "   macro avg       1.00      1.00      1.00    113726\n",
      "weighted avg       1.00      1.00      1.00    113726\n",
      "\n",
      "R squared is: 0.9947945060935933\n",
      "Accuracy is:  99.86986265233983\n"
     ]
    }
   ],
   "source": [
    "# iterate again each metrics for each model\n",
    "for model in list_models:\n",
    "    model.fit(X_train, y_train)\n",
    "    model_eval = Evaluate(model)\n",
    "\n",
    "    print(f'\\n\\nmodel is: {model}')\n",
    "    model_eval.get_score(X_test, y_test)"
   ]
  },
  {
   "cell_type": "markdown",
   "id": "8dbc25f5",
   "metadata": {},
   "source": [
    "### SMOTE oversampling"
   ]
  },
  {
   "cell_type": "code",
   "execution_count": 59,
   "id": "0bd0067d",
   "metadata": {},
   "outputs": [],
   "source": [
    "# redefine X and y\n",
    "X = df.drop('Class', axis=1)\n",
    "y = df['Class']"
   ]
  },
  {
   "cell_type": "code",
   "execution_count": 60,
   "id": "0e452fdc",
   "metadata": {},
   "outputs": [
    {
     "data": {
      "text/plain": [
       "0    284315\n",
       "1    284315\n",
       "Name: Class, dtype: int64"
      ]
     },
     "execution_count": 60,
     "metadata": {},
     "output_type": "execute_result"
    }
   ],
   "source": [
    "# resample X and y \n",
    "smote = SMOTE(sampling_strategy='minority')\n",
    "X_sm, y_sm = smote.fit_resample(X, y)\n",
    "y_sm.value_counts()"
   ]
  },
  {
   "cell_type": "code",
   "execution_count": 61,
   "id": "60fe4011",
   "metadata": {},
   "outputs": [],
   "source": [
    "# split the dataset into a training set and a testing test\n",
    "X_train, X_test, y_train, y_test = train_test_split(X_sm, y_sm, test_size=0.2, stratify=y_sm)"
   ]
  },
  {
   "cell_type": "code",
   "execution_count": 62,
   "id": "32d3d975",
   "metadata": {},
   "outputs": [
    {
     "name": "stdout",
     "output_type": "stream",
     "text": [
      "\n",
      "\n",
      "model is: LogisticRegression(max_iter=10000)\n",
      "              precision    recall  f1-score   support\n",
      "\n",
      "           0       0.93      0.98      0.95     56863\n",
      "           1       0.97      0.92      0.95     56863\n",
      "\n",
      "    accuracy                           0.95    113726\n",
      "   macro avg       0.95      0.95      0.95    113726\n",
      "weighted avg       0.95      0.95      0.95    113726\n",
      "\n",
      "R squared is: 0.7946643687459332\n",
      "Accuracy is:  94.86660921864834\n",
      "\n",
      "\n",
      "model is: RandomForestClassifier(max_depth=1)\n",
      "              precision    recall  f1-score   support\n",
      "\n",
      "           0       0.87      1.00      0.93     56863\n",
      "           1       1.00      0.85      0.92     56863\n",
      "\n",
      "    accuracy                           0.92    113726\n",
      "   macro avg       0.93      0.92      0.92    113726\n",
      "weighted avg       0.93      0.92      0.92    113726\n",
      "\n",
      "R squared is: 0.6927351704975115\n",
      "Accuracy is:  92.31837926243779\n",
      "\n",
      "\n",
      "model is: GaussianNB()\n",
      "              precision    recall  f1-score   support\n",
      "\n",
      "           0       0.87      0.97      0.92     56863\n",
      "           1       0.97      0.85      0.91     56863\n",
      "\n",
      "    accuracy                           0.91    113726\n",
      "   macro avg       0.92      0.91      0.91    113726\n",
      "weighted avg       0.92      0.91      0.91    113726\n",
      "\n",
      "R squared is: 0.6595677329722315\n",
      "Accuracy is:  91.48919332430579\n",
      "[21:24:50] WARNING: /private/var/folders/b8/fm9sphq57_38t7mgnzjkdvz80000gn/T/pip-install-ppd_o4zb/xgboost_f6827062257e47f88ff132cd08a1f211/build/temp.macosx-11-arm64-3.8/xgboost/src/learner.cc:576: \n",
      "Parameters: { \"boosting_type\", \"is_unbalance\", \"loss\", \"min_child_samples\", \"num_leaves\" } might not be used.\n",
      "\n",
      "  This could be a false alarm, with some parameters getting used by language bindings but\n",
      "  then being mistakenly passed down to XGBoost core, or some parameter actually being used\n",
      "  but getting flagged wrongly here. Please open an issue if you find any such cases.\n",
      "\n",
      "\n",
      "[21:24:50] WARNING: /private/var/folders/b8/fm9sphq57_38t7mgnzjkdvz80000gn/T/pip-install-ppd_o4zb/xgboost_f6827062257e47f88ff132cd08a1f211/build/temp.macosx-11-arm64-3.8/xgboost/src/learner.cc:1115: Starting in XGBoost 1.3.0, the default evaluation metric used with the objective 'binary:logistic' was changed from 'error' to 'logloss'. Explicitly set eval_metric if you'd like to restore the old behavior.\n",
      "\n",
      "\n",
      "model is: XGBClassifier(base_score=0.5, booster='gbtree', boosting_type='dart',\n",
      "              colsample_bylevel=1, colsample_bynode=1,\n",
      "              colsample_bytree=0.9555555555555555, enable_categorical=False,\n",
      "              gamma=0, gpu_id=-1, importance_type=None,\n",
      "              interaction_constraints='', is_unbalance=True,\n",
      "              learning_rate=0.1830347573798451, loss='ls', max_delta_step=0,\n",
      "              max_depth=3, min_child_samples=405, min_child_weight=1,\n",
      "              missing=nan, monotone_constraints='()', n_estimators=100,\n",
      "              n_jobs=8, num_leaves=39, num_parallel_tree=1, predictor='auto',\n",
      "              random_state=29, reg_alpha=0.8571428571428571,\n",
      "              reg_lambda=0.2857142857142857, scale_pos_weight=1,\n",
      "              subsample=0.6161616161616161, ...)\n",
      "              precision    recall  f1-score   support\n",
      "\n",
      "           0       0.99      0.99      0.99     56863\n",
      "           1       0.99      0.99      0.99     56863\n",
      "\n",
      "    accuracy                           0.99    113726\n",
      "   macro avg       0.99      0.99      0.99    113726\n",
      "weighted avg       0.99      0.99      0.99    113726\n",
      "\n",
      "R squared is: 0.9641242987531435\n",
      "Accuracy is:  99.10310746882858\n"
     ]
    }
   ],
   "source": [
    "# iterate again each metrics for each model\n",
    "for model in list_models:\n",
    "    model.fit(X_train, y_train)\n",
    "    model_eval = Evaluate(model)\n",
    "\n",
    "    print(f'\\n\\nmodel is: {model}')\n",
    "    model_eval.get_score(X_test, y_test)"
   ]
  },
  {
   "cell_type": "markdown",
   "id": "10d4583f",
   "metadata": {},
   "source": [
    "# Penalizing the algorithms"
   ]
  },
  {
   "cell_type": "code",
   "execution_count": 63,
   "id": "b490655e",
   "metadata": {},
   "outputs": [],
   "source": [
    "# penalize the algorithms by adding balanced class_weight\n",
    "lr_model = LogisticRegression(max_iter=10000, class_weight=\"balanced\")\n",
    "rfc_model = RandomForestClassifier(max_depth = 1, class_weight=\"balanced\")\n",
    "xgb_model = xgb.XGBClassifier(objective='binary:logistic',eval_metric=\"logloss\",seed=42, use_label_encoder=False)\n",
    "list_models2 = [lr_model, rfc_model, xgb_model]"
   ]
  },
  {
   "cell_type": "code",
   "execution_count": 64,
   "id": "136ad035",
   "metadata": {},
   "outputs": [
    {
     "name": "stdout",
     "output_type": "stream",
     "text": [
      "\n",
      "\n",
      "model is: LogisticRegression(class_weight='balanced', max_iter=10000)\n",
      "              precision    recall  f1-score   support\n",
      "\n",
      "           0       0.93      0.98      0.95     56863\n",
      "           1       0.97      0.92      0.95     56863\n",
      "\n",
      "    accuracy                           0.95    113726\n",
      "   macro avg       0.95      0.95      0.95    113726\n",
      "weighted avg       0.95      0.95      0.95    113726\n",
      "\n",
      "R squared is: 0.7946643687459332\n",
      "Accuracy is:  94.86660921864834\n",
      "\n",
      "\n",
      "model is: RandomForestClassifier(class_weight='balanced', max_depth=1)\n",
      "              precision    recall  f1-score   support\n",
      "\n",
      "           0       0.87      1.00      0.93     56863\n",
      "           1       1.00      0.85      0.92     56863\n",
      "\n",
      "    accuracy                           0.92    113726\n",
      "   macro avg       0.93      0.92      0.92    113726\n",
      "weighted avg       0.93      0.92      0.92    113726\n",
      "\n",
      "R squared is: 0.6898510454953133\n",
      "Accuracy is:  92.24627613738284\n",
      "\n",
      "\n",
      "model is: XGBClassifier(base_score=0.5, booster='gbtree', colsample_bylevel=1,\n",
      "              colsample_bynode=1, colsample_bytree=1, enable_categorical=False,\n",
      "              eval_metric='logloss', gamma=0, gpu_id=-1, importance_type=None,\n",
      "              interaction_constraints='', learning_rate=0.300000012,\n",
      "              max_delta_step=0, max_depth=6, min_child_weight=1, missing=nan,\n",
      "              monotone_constraints='()', n_estimators=100, n_jobs=8,\n",
      "              num_parallel_tree=1, predictor='auto', random_state=42,\n",
      "              reg_alpha=0, reg_lambda=1, scale_pos_weight=1, seed=42,\n",
      "              subsample=1, tree_method='exact', use_label_encoder=False,\n",
      "              validate_parameters=1, ...)\n",
      "              precision    recall  f1-score   support\n",
      "\n",
      "           0       1.00      1.00      1.00     56863\n",
      "           1       1.00      1.00      1.00     56863\n",
      "\n",
      "    accuracy                           1.00    113726\n",
      "   macro avg       1.00      1.00      1.00    113726\n",
      "weighted avg       1.00      1.00      1.00    113726\n",
      "\n",
      "R squared is: 0.9988393155478958\n",
      "Accuracy is:  99.97098288869739\n"
     ]
    }
   ],
   "source": [
    "# iterate again each metrics for each model \n",
    "for model in list_models2:\n",
    "    model.fit(X_train, y_train)\n",
    "    model_eval = Evaluate(model)\n",
    "\n",
    "    print(f'\\n\\nmodel is: {model}')\n",
    "    model_eval.get_score(X_test, y_test)"
   ]
  },
  {
   "cell_type": "code",
   "execution_count": null,
   "id": "4c018f43",
   "metadata": {},
   "outputs": [],
   "source": []
  }
 ],
 "metadata": {
  "kernelspec": {
   "display_name": "Python 3 (ipykernel)",
   "language": "python",
   "name": "python3"
  },
  "language_info": {
   "codemirror_mode": {
    "name": "ipython",
    "version": 3
   },
   "file_extension": ".py",
   "mimetype": "text/x-python",
   "name": "python",
   "nbconvert_exporter": "python",
   "pygments_lexer": "ipython3",
   "version": "3.8.12"
  }
 },
 "nbformat": 4,
 "nbformat_minor": 5
}
