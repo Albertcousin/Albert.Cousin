{
 "cells": [
  {
   "cell_type": "markdown",
   "id": "ffec0540",
   "metadata": {},
   "source": [
    "## Python automation project\n",
    "\n",
    "### Information:\n",
    "\n",
    "* opens any desired section from the *Law of Value-Added Tax Act* (**VAT**) or the *Direct Tax Act* (**DTA**)\n",
    "\n",
    "\n",
    "* **VAT** act is composed of sections, from 1 to 125 \n",
    "\n",
    "\n",
    "* the **DTA** however is composed of the following sub-categories:\n",
    "\n",
    "(1993) Waiver of certain tax, interest and penalties \n",
    "    \n",
    "(1997) Taxes consolidation act \n",
    "    \n",
    "(2005) Interpretation act \n",
    "    \n",
    "(2015) Tax appeals \n",
    "\n",
    "### Instructions:\n",
    "\n",
    "* user will first be prompted to type in either **VAT** or **DTA**, along with the sub-category's year of publication if **DTA** is picked, then to type the number of the section of interest\n",
    "\n",
    "\n",
    "* to start/restart the program on Jupyter Notebook: click Kernel -> Restart & Run All\n"
   ]
  },
  {
   "cell_type": "code",
   "execution_count": 1,
   "id": "8b9a5807",
   "metadata": {},
   "outputs": [
    {
     "data": {
      "text/html": [
       "<script>\n",
       "code_show=true; \n",
       "function code_toggle() {\n",
       " if (code_show){\n",
       " $('div.input').hide();\n",
       " } else {\n",
       " $('div.input').show();\n",
       " }\n",
       " code_show = !code_show\n",
       "} \n",
       "$( document ).ready(code_toggle);\n",
       "</script>\n",
       "<form action=\"javascript:code_toggle()\"><input type=\"submit\" \n",
       "value=\"Click here to toggle on/off the raw code.\"></form>"
      ],
      "text/plain": [
       "<IPython.core.display.HTML object>"
      ]
     },
     "execution_count": 1,
     "metadata": {},
     "output_type": "execute_result"
    }
   ],
   "source": [
    "# hide the code \n",
    "from IPython.display import HTML\n",
    "\n",
    "HTML('''<script>\n",
    "code_show=true; \n",
    "function code_toggle() {\n",
    " if (code_show){\n",
    " $('div.input').hide();\n",
    " } else {\n",
    " $('div.input').show();\n",
    " }\n",
    " code_show = !code_show\n",
    "} \n",
    "$( document ).ready(code_toggle);\n",
    "</script>\n",
    "<form action=\"javascript:code_toggle()\"><input type=\"submit\" \n",
    "value=\"Click here to toggle on/off the raw code.\"></form>''')"
   ]
  },
  {
   "cell_type": "code",
   "execution_count": 2,
   "id": "741794ed",
   "metadata": {},
   "outputs": [],
   "source": [
    "# manage ssl issues\n",
    "import ssl \n",
    "try:\n",
    "    _create_unverified_https_context = ssl._create_unverified_context \n",
    "except AttributeError: \n",
    "    pass \n",
    "else: \n",
    "    ssl._create_default_https_context = _create_unverified_https_context\n",
    "\n",
    "# web scrapping\n",
    "from bs4 import BeautifulSoup\n",
    "from urllib.request import Request, urlopen\n",
    "import re\n",
    "\n",
    "# link opening\n",
    "import webbrowser \n",
    "from fpdf import FPDF\n",
    "from PyPDF2 import PdfFileReader, PdfFileWriter, PdfFileMerger\n",
    "import glob\n",
    "from concurrent.futures import ThreadPoolExecutor, as_completed\n",
    "from urllib.parse import unquote\n",
    "import requests\n",
    "import sys\n",
    "sys.setrecursionlimit(10000)\n",
    "import os\n",
    "import pandas as pd\n",
    "import PIL"
   ]
  },
  {
   "cell_type": "code",
   "execution_count": 3,
   "id": "e8d04646",
   "metadata": {},
   "outputs": [
    {
     "name": "stdout",
     "output_type": "stream",
     "text": [
      "VAT or DTA? \n",
      "DTA\n"
     ]
    }
   ],
   "source": [
    "# user can provide the desired section\n",
    "which_act = input(\"VAT or DTA? \\n\")"
   ]
  },
  {
   "cell_type": "code",
   "execution_count": 4,
   "id": "d23c5c17",
   "metadata": {},
   "outputs": [
    {
     "name": "stdout",
     "output_type": "stream",
     "text": [
      "year number: \n",
      "1997\n",
      "\n",
      "section number: \n",
      "988\n"
     ]
    }
   ],
   "source": [
    "if which_act == 'VAT':\n",
    "    \n",
    "    # user can provide the desired section\n",
    "    section_number = input(\"tell me which section you are looking for: \\n\")\n",
    "\n",
    "    # we scrape through the web page that contains all links to each section\n",
    "\n",
    "    req = Request(\"https://www.taxfind.ie/document/LVAT_2021_XML_29042021_V1-top_doc-2901457562?query=&filter=category%3A%22Legislation%22&excludeHmrc=true\")\n",
    "    html_page = urlopen(req)\n",
    "\n",
    "    soup = BeautifulSoup(html_page, \"lxml\")\n",
    "\n",
    "    # create an empty list to be filled with all links extracted from the page\n",
    "    links = []\n",
    "    for link in soup.findAll('a'):\n",
    "        links.append(link.get('href'))\n",
    "\n",
    "    # extract the link that satisfies the input condition \n",
    "    links_such_that = [e for e in links if section_number in e]\n",
    "    cleaned_link = [links_such_that[0]]\n",
    "\n",
    "    # the link is in list type: create a function to convert it to a string\n",
    "    def listToString(s): \n",
    "        str1 = \"\" \n",
    "        for element in cleaned_link: \n",
    "            str1 += element \n",
    "        return str1 \n",
    "\n",
    "    # pass the list to the function        \n",
    "    cleaned_link = listToString(cleaned_link)\n",
    "\n",
    "    # the links scrapped were not whole, we add the missing part\n",
    "    whole_link = 'https://www.taxfind.ie'+cleaned_link\n",
    "\n",
    "    # opens the link in a new tab\n",
    "    webbrowser.open(whole_link, new=1)\n",
    "\n",
    "elif which_act =='DTA':\n",
    "    \n",
    "    # user can provide the desired section\n",
    "    year_number = input(\"year number: \\n\")\n",
    "    \n",
    "    # user can provide the desired section\n",
    "    section_number = input(\"\\nsection number: \\n\")\n",
    "                        \n",
    "    # we scrape through the web page containing links to each sections\n",
    "    req = Request(\"https://www.taxfind.ie/document/DTA_2021_XML_21042021-top_doc-2075927824?query=&filter=category%3A%22Legislation%22&excludeHmrc=true\")\n",
    "    html_page = urlopen(req)\n",
    "\n",
    "    soup = BeautifulSoup(html_page, \"lxml\")\n",
    "\n",
    "# gather all links in a list\n",
    "\n",
    "    # create an empty list to be filled with all links extracted from the page\n",
    "    links = []\n",
    "    for link in soup.findAll('a'):\n",
    "        links.append(link.get('href'))\n",
    "\n",
    "    # extract the link that satisfies the input condition \n",
    "    links_such_that = [e for e in links if section_number in e and year_number in e]\n",
    "    cleaned_link = [links_such_that[0]]\n",
    "\n",
    "    links_such_that\n",
    "    \n",
    "    # the link is in list type: create a function to convert it to a string\n",
    "    def listToString(s): \n",
    "        str1 = \"\" \n",
    "        for element in cleaned_link: \n",
    "            str1 += element  \n",
    "        return str1 \n",
    "\n",
    "    # pass the list to the function        \n",
    "    cleaned_link = listToString(cleaned_link)\n",
    "\n",
    "    # the links scrapped were not whole, we add the missing part\n",
    "    whole_link = 'https://www.taxfind.ie'+cleaned_link\n",
    "\n",
    "    # opens the link in a new tab\n",
    "    webbrowser.open(whole_link, new=1)"
   ]
  },
  {
   "cell_type": "code",
   "execution_count": null,
   "id": "9aadf789",
   "metadata": {},
   "outputs": [],
   "source": []
  }
 ],
 "metadata": {
  "kernelspec": {
   "display_name": "Python 3 (ipykernel)",
   "language": "python",
   "name": "python3"
  },
  "language_info": {
   "codemirror_mode": {
    "name": "ipython",
    "version": 3
   },
   "file_extension": ".py",
   "mimetype": "text/x-python",
   "name": "python",
   "nbconvert_exporter": "python",
   "pygments_lexer": "ipython3",
   "version": "3.8.12"
  }
 },
 "nbformat": 4,
 "nbformat_minor": 5
}
